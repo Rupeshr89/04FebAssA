{
 "cells": [
  {
   "cell_type": "markdown",
   "id": "3a0b91dc-c342-4663-b46b-9df793f6deb1",
   "metadata": {},
   "source": [
    "### Q1.Write a Program to accept the percentage from user and give grade according to the following cretirea."
   ]
  },
  {
   "cell_type": "code",
   "execution_count": 1,
   "id": "b040539c-b192-4110-8fe9-c4a896a0ebbb",
   "metadata": {},
   "outputs": [
    {
     "name": "stdin",
     "output_type": "stream",
     "text": [
      "Please Enter Your name Rupesh Rai\n",
      "Please enter your marks 57\n"
     ]
    },
    {
     "name": "stdout",
     "output_type": "stream",
     "text": [
      "Rupesh Rai You get D Grade\n"
     ]
    }
   ],
   "source": [
    "name=input(\"Please Enter Your name\")\n",
    "mark=int(input(\"Please enter your marks\"))\n",
    "if mark >90:\n",
    "    print(f\"{name} You get A Grade\")\n",
    "elif mark >80 and mark<=90:\n",
    "    print(f\"{name} You get B Grade\")\n",
    "elif mark >60 and mark<=80:\n",
    "    print(f\"{name} You get C Grade\")\n",
    "elif mark <60:\n",
    "    print(f\"{name} You get D Grade\")\n",
    "else:\n",
    "        print(\"Please Enter you correct mark\")"
   ]
  },
  {
   "cell_type": "markdown",
   "id": "00b87618-4136-49f3-83c2-f0e1fc6c6cdb",
   "metadata": {},
   "source": [
    "### Q2. Write a program to accent the cost price of a bike and display the  road tax to be paid according to the follwing creteria."
   ]
  },
  {
   "cell_type": "code",
   "execution_count": 2,
   "id": "0964e170-4a2f-433b-9006-9c961e7ad81b",
   "metadata": {},
   "outputs": [
    {
     "name": "stdin",
     "output_type": "stream",
     "text": [
      "Please Enter the cost of the bike 80000\n"
     ]
    },
    {
     "name": "stdout",
     "output_type": "stream",
     "text": [
      "Road tax is 8000.0:\n"
     ]
    }
   ],
   "source": [
    "cost_price=int(input(\"Please Enter the cost of the bike\"))\n",
    "if cost_price>100000:\n",
    "    print(\"Road tax is {}:\".format(cost_price*.15))\n",
    "elif cost_price>50000 and cost_price<=100000:\n",
    "    print(\"Road tax is {}:\".format(cost_price*.10))\n",
    "elif cost_price>=50000:\n",
    "    print(\"Road tax is {}:\".format(cost_price*.05))\n",
    "else:\n",
    "    print(\"Thank You\")"
   ]
  },
  {
   "cell_type": "markdown",
   "id": "070d40d0-d835-4927-af90-745143f803e3",
   "metadata": {},
   "source": [
    "### Q3.Accept the city from user and display the monuments off that city."
   ]
  },
  {
   "cell_type": "code",
   "execution_count": 3,
   "id": "ea03a4f6-dbdf-42e0-b0e9-d88dc19179a5",
   "metadata": {},
   "outputs": [
    {
     "name": "stdin",
     "output_type": "stream",
     "text": [
      "Please enter the city name Agra\n"
     ]
    },
    {
     "name": "stdout",
     "output_type": "stream",
     "text": [
      "Taj Mahal\n"
     ]
    }
   ],
   "source": [
    "city_name=input(\"Please enter the city name\")\n",
    "if city_name==\"Delhi\":\n",
    "    print(\"Lal Quila\")\n",
    "elif city_name==\"Agra\":\n",
    "    print(\"Taj Mahal\")\n",
    "elif city_name==\"Jaipur\":\n",
    "    print(\"Jal Mahal\")\n",
    "else:\n",
    "    print(\"Thank You\")"
   ]
  },
  {
   "cell_type": "markdown",
   "id": "345a230e-0a0d-4e60-a0a4-3cccc700d712",
   "metadata": {},
   "source": [
    "### Q4.Check how many times a given number can be devided by 3 before it is less than or equal to 10."
   ]
  },
  {
   "cell_type": "code",
   "execution_count": null,
   "id": "44a4563e-a08c-4581-82a2-e642b1551063",
   "metadata": {},
   "outputs": [],
   "source": []
  },
  {
   "cell_type": "code",
   "execution_count": null,
   "id": "57cbd0ed-b338-4d29-a476-1828a4eb953b",
   "metadata": {},
   "outputs": [],
   "source": []
  },
  {
   "cell_type": "code",
   "execution_count": null,
   "id": "29e46b0f-e877-48f9-9c7d-70f9a00f7f3e",
   "metadata": {},
   "outputs": [],
   "source": []
  },
  {
   "cell_type": "code",
   "execution_count": null,
   "id": "0782e05f-c87b-4ba3-a309-83900e5fd9c5",
   "metadata": {},
   "outputs": [],
   "source": []
  },
  {
   "cell_type": "code",
   "execution_count": null,
   "id": "2153241b-e180-43ef-875e-9a1ffff7c17f",
   "metadata": {},
   "outputs": [],
   "source": []
  },
  {
   "cell_type": "code",
   "execution_count": null,
   "id": "e175e5be-7a87-41e6-9359-60e1b87caf69",
   "metadata": {},
   "outputs": [],
   "source": []
  },
  {
   "cell_type": "code",
   "execution_count": null,
   "id": "440ce821-cc56-43ca-a89a-cf615627405b",
   "metadata": {},
   "outputs": [],
   "source": []
  },
  {
   "cell_type": "markdown",
   "id": "32a6cbfe-d621-4e0c-8f31-17bf659a0b34",
   "metadata": {},
   "source": [
    "### Q5.Why and when we use while loop in python? Give a detailed discreaption with example."
   ]
  },
  {
   "cell_type": "code",
   "execution_count": null,
   "id": "e52fa437-deb9-4a15-85bc-5f62b368f7d6",
   "metadata": {},
   "outputs": [],
   "source": [
    "Python while loop is used to run a block code until a certain condition is met.\n",
    "Here, A while loop evaluates the condition.\n",
    "If the condition evaluates to True , the code inside the while loop is executed."
   ]
  },
  {
   "cell_type": "code",
   "execution_count": null,
   "id": "192f9d75-bba0-4108-ae0d-e8580de69b5e",
   "metadata": {},
   "outputs": [],
   "source": [
    "A Python While loop expression/condition consists of three parts:\n",
    "\n",
    "1. A piece of code that needs to be repeated over and over\n",
    "2. The while keyword\n",
    "3. A condition that translates to either True or False\n",
    "4. Python While Loop Syntax"
   ]
  },
  {
   "cell_type": "code",
   "execution_count": 1,
   "id": "291a7bba-5012-4291-b921-47b9809cda6e",
   "metadata": {},
   "outputs": [],
   "source": [
    "# Example of while loop"
   ]
  },
  {
   "cell_type": "code",
   "execution_count": 3,
   "id": "3df848e0-aeff-482f-abc1-d546861f5957",
   "metadata": {},
   "outputs": [
    {
     "name": "stdout",
     "output_type": "stream",
     "text": [
      "1\n",
      "2\n",
      "3\n",
      "4\n"
     ]
    }
   ],
   "source": [
    "i=1\n",
    "while i<5:\n",
    "    print(i)\n",
    "    i+=1"
   ]
  },
  {
   "cell_type": "markdown",
   "id": "609cf965-0d5a-47f4-a924-7011015c2120",
   "metadata": {},
   "source": [
    "### Q6. Use nested loop to print 3 different pattern in python."
   ]
  },
  {
   "cell_type": "code",
   "execution_count": 9,
   "id": "40f4d6cb-0089-4243-8765-346a6b3997ae",
   "metadata": {},
   "outputs": [
    {
     "name": "stdout",
     "output_type": "stream",
     "text": [
      "*****\n",
      "*****\n",
      "*****\n",
      "*****\n",
      "*****\n"
     ]
    }
   ],
   "source": [
    "for i in range(5):\n",
    "    for j in range(5):\n",
    "        print(\"*\",end=\"\")\n",
    "        \n",
    "    print()"
   ]
  },
  {
   "cell_type": "code",
   "execution_count": 13,
   "id": "c991dfd6-20af-4751-8f47-b3306329e9d8",
   "metadata": {},
   "outputs": [
    {
     "name": "stdout",
     "output_type": "stream",
     "text": [
      "@\n",
      "@@\n",
      "@@@\n",
      "@@@@\n",
      "@@@@@\n"
     ]
    }
   ],
   "source": [
    "for i in range(5):\n",
    "    for j in range(i+1):\n",
    "        print(\"@\",end=\"\")\n",
    "    print()"
   ]
  },
  {
   "cell_type": "code",
   "execution_count": 14,
   "id": "43547c2c-a5b2-47b2-b5df-f3e2530a0f4d",
   "metadata": {},
   "outputs": [
    {
     "name": "stdout",
     "output_type": "stream",
     "text": [
      "$$$$$\n",
      "$$$$\n",
      "$$$\n",
      "$$\n",
      "$\n"
     ]
    }
   ],
   "source": [
    "for i in range(5):\n",
    "    for j in range(5-i):\n",
    "        print(\"$\",end=\"\")\n",
    "    print()"
   ]
  },
  {
   "cell_type": "markdown",
   "id": "f197ec46-a12e-48a8-8358-d1a0129844cc",
   "metadata": {},
   "source": [
    "### Q7.Reverse a while loop to display a number form 10 to 0."
   ]
  },
  {
   "cell_type": "code",
   "execution_count": 16,
   "id": "ffdfa226-17fa-4e80-9545-da17bd9c955c",
   "metadata": {},
   "outputs": [
    {
     "name": "stdout",
     "output_type": "stream",
     "text": [
      "10\n",
      "9\n",
      "8\n",
      "7\n",
      "6\n",
      "5\n",
      "4\n",
      "3\n",
      "2\n",
      "1\n",
      "0\n"
     ]
    }
   ],
   "source": [
    "i=10\n",
    "while i>=0:\n",
    "    print(i)\n",
    "    i-=1"
   ]
  },
  {
   "cell_type": "markdown",
   "id": "09b4c079-0197-4937-9888-e4be708cd191",
   "metadata": {},
   "source": [
    "### Q8.Reverse a while loop to display a number form 10 to 0."
   ]
  },
  {
   "cell_type": "code",
   "execution_count": 17,
   "id": "db87cd11-a321-4f6d-b087-6439d1e1221d",
   "metadata": {},
   "outputs": [
    {
     "name": "stdout",
     "output_type": "stream",
     "text": [
      "10\n",
      "9\n",
      "8\n",
      "7\n",
      "6\n",
      "5\n",
      "4\n",
      "3\n",
      "2\n",
      "1\n",
      "0\n"
     ]
    }
   ],
   "source": [
    "n=10\n",
    "while n>=0:\n",
    "    print(n)\n",
    "    n-=1"
   ]
  },
  {
   "cell_type": "code",
   "execution_count": null,
   "id": "067193c7-f91f-408d-9dbb-179059088b5a",
   "metadata": {},
   "outputs": [],
   "source": []
  }
 ],
 "metadata": {
  "kernelspec": {
   "display_name": "Python 3 (ipykernel)",
   "language": "python",
   "name": "python3"
  },
  "language_info": {
   "codemirror_mode": {
    "name": "ipython",
    "version": 3
   },
   "file_extension": ".py",
   "mimetype": "text/x-python",
   "name": "python",
   "nbconvert_exporter": "python",
   "pygments_lexer": "ipython3",
   "version": "3.10.8"
  }
 },
 "nbformat": 4,
 "nbformat_minor": 5
}
