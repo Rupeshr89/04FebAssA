{
 "cells": [
  {
   "cell_type": "markdown",
   "id": "bdbdf397-62f0-40dd-afc9-4c4c55b72033",
   "metadata": {},
   "source": [
    "### Q1. Explain Class and Object with respect to Object-Oriented Programming. Give a suitable example."
   ]
  },
  {
   "cell_type": "code",
   "execution_count": null,
   "id": "0f2cb6a9-328d-4c74-9a7a-7eaeff2acc2a",
   "metadata": {},
   "outputs": [],
   "source": [
    "Classes are user-defined data types that act as the blueprint for individual objects, attributes and methods. \n",
    "Objects are instances of a class created with specifically defined data. \n",
    "Objects can correspond to real-world objects or an abstract entity."
   ]
  },
  {
   "cell_type": "code",
   "execution_count": 1,
   "id": "dd0d2284-7ca7-430b-b45d-dc1da656d812",
   "metadata": {},
   "outputs": [],
   "source": [
    "class pwskills():\n",
    "    def student_details(self,name,email,mobile):\n",
    "        self.name=name\n",
    "        self.email=email\n",
    "        \n",
    "        self.mobile=mobile\n",
    "        return self.name,self.email,self.mobile"
   ]
  },
  {
   "cell_type": "code",
   "execution_count": 2,
   "id": "cdd20c0e-75a6-4dc5-bd8c-5b5f92b3990e",
   "metadata": {},
   "outputs": [],
   "source": [
    "obj_class=pwskills()"
   ]
  },
  {
   "cell_type": "code",
   "execution_count": 3,
   "id": "b3753470-0eb0-47bd-883e-80400304820e",
   "metadata": {},
   "outputs": [
    {
     "data": {
      "text/plain": [
       "('Rupesh Rai', 'rupeshrai024@gmail.com', 8953835767)"
      ]
     },
     "execution_count": 3,
     "metadata": {},
     "output_type": "execute_result"
    }
   ],
   "source": [
    "obj_class.student_details(\"Rupesh Rai\",\"rupeshrai024@gmail.com\",8953835767)"
   ]
  },
  {
   "cell_type": "markdown",
   "id": "2390fd68-2ac7-4290-b268-d8726547f992",
   "metadata": {},
   "source": [
    "### Q2. Name the four pillars of OOPs."
   ]
  },
  {
   "cell_type": "code",
   "execution_count": null,
   "id": "15e4b55b-f819-4226-abcb-8fa6c6e264b0",
   "metadata": {},
   "outputs": [],
   "source": [
    "1.Inheritance\n",
    "2.Polymorphism\n",
    "3.Encapsulation\n",
    "4.Abstraction."
   ]
  },
  {
   "cell_type": "markdown",
   "id": "cda98c52-351a-4f0e-8366-356c30cd39d2",
   "metadata": {},
   "source": [
    "### Q3. Explain why the __ init __() function is used. Give a suitable example."
   ]
  },
  {
   "cell_type": "code",
   "execution_count": null,
   "id": "11ed8457-75f1-4d62-b754-743bfe5092f7",
   "metadata": {},
   "outputs": [],
   "source": [
    " __init__ is a special python method that runs whenever a new object is created.\n",
    "These types of functions are used to initialize the attributes of that class,\n",
    "E.g., if the class is Person, then the attributes will be name, age, etc."
   ]
  },
  {
   "cell_type": "code",
   "execution_count": 5,
   "id": "e90cd7e4-90f8-4f95-b733-4179abc84bc5",
   "metadata": {},
   "outputs": [],
   "source": [
    "class Trip:\n",
    "    def __init__(self, to_city, from_city):\n",
    "        self.to_city = to_city\n",
    "        self.from_city = from_city\n",
    " \n",
    "    def holiday(self):\n",
    "         return (\"From: \" + self.from_city + \"\\nTo_city: \" + self.to_city)"
   ]
  },
  {
   "cell_type": "code",
   "execution_count": 7,
   "id": "360825fe-9e14-4ff7-990e-9a03d93d87dd",
   "metadata": {},
   "outputs": [],
   "source": [
    "t=Trip(\"India\",\"London\")"
   ]
  },
  {
   "cell_type": "code",
   "execution_count": 8,
   "id": "226dd34d-a3c3-473f-962e-106b8d024f78",
   "metadata": {},
   "outputs": [],
   "source": [
    "class Trip:\n",
    "    def __init__(self, from_city, to_city):\n",
    "        self.to_city = to_city\n",
    "        self.from_city = from_city\n",
    " \n",
    "    def holiday(self):\n",
    "         return (\"From: \" + self.from_city + \"\\nTo_city: \" + self.to_city)"
   ]
  },
  {
   "cell_type": "code",
   "execution_count": 9,
   "id": "dd0d1cd0-526c-43a2-8fad-3c5d7e4e1d34",
   "metadata": {},
   "outputs": [],
   "source": [
    "t=Trip(\"India\",\"London\")"
   ]
  },
  {
   "cell_type": "code",
   "execution_count": 10,
   "id": "48ae7d05-bc81-4795-ba44-17a03213a953",
   "metadata": {},
   "outputs": [
    {
     "data": {
      "text/plain": [
       "'From: India\\nTo_city: London'"
      ]
     },
     "execution_count": 10,
     "metadata": {},
     "output_type": "execute_result"
    }
   ],
   "source": [
    "t.holiday()"
   ]
  },
  {
   "cell_type": "markdown",
   "id": "1349eca1-ef91-4538-abb8-cd01954089dc",
   "metadata": {},
   "source": [
    "### Q4. Why self is used in OOPs?"
   ]
  },
  {
   "cell_type": "code",
   "execution_count": null,
   "id": "bddf4f08-9b35-47ed-aca3-c86479ad1e93",
   "metadata": {},
   "outputs": [],
   "source": [
    "The self variable is used to represent the instance of the class which is often used in object-oriented programming.\n",
    "It works as a reference to the object.\n",
    "Python uses the self parameter to refer to instance attributes and methods of the class."
   ]
  },
  {
   "cell_type": "markdown",
   "id": "85e6a132-1b11-4f20-9249-5ea8ea691a7d",
   "metadata": {},
   "source": [
    "### Q5. What is inheritance? Give an example for each type of inheritance."
   ]
  },
  {
   "cell_type": "code",
   "execution_count": null,
   "id": "443d28c2-9926-4d3c-a4a9-ee2b11d48424",
   "metadata": {},
   "outputs": [],
   "source": [
    "Inheritance is a mechanism in which one class acquires the property of another class. \n",
    "For example, a child inherits the traits of his/her parents. With inheritance, \n",
    "we can reuse the fields and methods of the existing class.\n",
    "Hence, inheritance facilitates Reusability and is an important concept of OOPs."
   ]
  },
  {
   "cell_type": "code",
   "execution_count": null,
   "id": "9ff69fb5-7044-4404-8004-3d27215d00a7",
   "metadata": {},
   "outputs": [],
   "source": []
  },
  {
   "cell_type": "code",
   "execution_count": null,
   "id": "7acb3b7d-d1e0-4089-b9bd-679543e0bc03",
   "metadata": {},
   "outputs": [],
   "source": []
  },
  {
   "cell_type": "code",
   "execution_count": null,
   "id": "9722312e-ccb3-46c3-8a34-9870ba754aae",
   "metadata": {},
   "outputs": [],
   "source": []
  },
  {
   "cell_type": "code",
   "execution_count": null,
   "id": "f41b7c8f-4437-4796-9d54-2feaec532c16",
   "metadata": {},
   "outputs": [],
   "source": []
  },
  {
   "cell_type": "code",
   "execution_count": null,
   "id": "05941abc-7786-4a4d-a983-11c10ea62b4e",
   "metadata": {},
   "outputs": [],
   "source": []
  }
 ],
 "metadata": {
  "kernelspec": {
   "display_name": "Python 3 (ipykernel)",
   "language": "python",
   "name": "python3"
  },
  "language_info": {
   "codemirror_mode": {
    "name": "ipython",
    "version": 3
   },
   "file_extension": ".py",
   "mimetype": "text/x-python",
   "name": "python",
   "nbconvert_exporter": "python",
   "pygments_lexer": "ipython3",
   "version": "3.10.8"
  }
 },
 "nbformat": 4,
 "nbformat_minor": 5
}
