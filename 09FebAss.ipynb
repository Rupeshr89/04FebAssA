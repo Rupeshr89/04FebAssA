{
 "cells": [
  {
   "cell_type": "markdown",
   "id": "6723bba7-945b-4d5d-80a9-c59ef91bfb06",
   "metadata": {},
   "source": [
    "### Q1, Create a vehicle class with an init method having instance variables as name_of_vehicle, max_speed and average_of_vehicle."
   ]
  },
  {
   "cell_type": "code",
   "execution_count": 1,
   "id": "abc9a086-1e1e-4603-94e8-5cf4ba71f834",
   "metadata": {},
   "outputs": [],
   "source": [
    "class vehichle:\n",
    "    def __init__(self,vehichle_name,max_speed,agerage_of_vehichle):\n",
    "        self.__vehichle_name=vehichle_name\n",
    "        self.__max_speed=max_speed\n",
    "        self.__average_of_vehichle=agerage_of_vehichle"
   ]
  },
  {
   "cell_type": "code",
   "execution_count": 3,
   "id": "51966dcb-6443-401c-b1c3-548443db067d",
   "metadata": {},
   "outputs": [
    {
     "data": {
      "text/plain": [
       "'Thar'"
      ]
     },
     "execution_count": 3,
     "metadata": {},
     "output_type": "execute_result"
    }
   ],
   "source": [
    "vehichle_cls._vehichle__vehichle_name"
   ]
  },
  {
   "cell_type": "code",
   "execution_count": 2,
   "id": "a6ad6b28-f2f1-406f-9901-4e5bf80de096",
   "metadata": {},
   "outputs": [],
   "source": [
    "vehichle_cls=vehichle(\"Thar\",140,10)"
   ]
  },
  {
   "cell_type": "markdown",
   "id": "ddcb9243-de05-4d0f-a606-a300234c560e",
   "metadata": {},
   "source": [
    "### Q2. Create a child class car from the vehicle class created in Que 1, which will inherit the vehicle class. Create a method named seating_capacity which takes capacity as an argument and returns the name of the vehicle and its seating capacity."
   ]
  },
  {
   "cell_type": "code",
   "execution_count": 4,
   "id": "d99cdec8-d284-47ba-9d29-f1994080ed2e",
   "metadata": {},
   "outputs": [],
   "source": [
    "class vehichle:\n",
    "    def __init__(self,vehichle_name,max_speed,agerage_of_vehichle,seating_capacity):\n",
    "        self.vehichle_name=vehichle_name\n",
    "        self.max_speed=max_speed\n",
    "        self.average_of_vehichle=agerage_of_vehichle\n",
    "        self.seating_capacity=seating_capacity"
   ]
  },
  {
   "cell_type": "code",
   "execution_count": 5,
   "id": "edd039d3-1ab5-443e-92bc-1bba32e13dd3",
   "metadata": {},
   "outputs": [],
   "source": [
    "class child_car(vehichle):\n",
    "    pass"
   ]
  },
  {
   "cell_type": "code",
   "execution_count": 6,
   "id": "6a68bd2f-15e8-4d78-b38d-09b26581e0c7",
   "metadata": {},
   "outputs": [],
   "source": [
    "obj_child_car=child_car(\"thar\",140,10,4)"
   ]
  },
  {
   "cell_type": "code",
   "execution_count": 7,
   "id": "cc8f771a-eda9-4b60-8760-7bf116066cb5",
   "metadata": {},
   "outputs": [
    {
     "data": {
      "text/plain": [
       "'thar'"
      ]
     },
     "execution_count": 7,
     "metadata": {},
     "output_type": "execute_result"
    }
   ],
   "source": [
    "obj_child_car.vehichle_name"
   ]
  },
  {
   "cell_type": "code",
   "execution_count": 8,
   "id": "2a15002f-6524-4efe-bf32-c2a44ec5ead3",
   "metadata": {},
   "outputs": [
    {
     "data": {
      "text/plain": [
       "4"
      ]
     },
     "execution_count": 8,
     "metadata": {},
     "output_type": "execute_result"
    }
   ],
   "source": [
    "obj_child_car.seating_capacity"
   ]
  },
  {
   "cell_type": "markdown",
   "id": "1dca69e5-d97c-422c-ae2a-9dfb2c239685",
   "metadata": {},
   "source": [
    "### Q3. What is multiple inheritance? Write a python code to demonstrate multiple inheritance."
   ]
  },
  {
   "cell_type": "code",
   "execution_count": null,
   "id": "f2745b73-2b99-4b71-9134-36045406459d",
   "metadata": {},
   "outputs": [],
   "source": [
    "When a class is derived from more than one base class it is called multiple Inheritance.\n",
    "The derived class inherits all the features of the base case."
   ]
  },
  {
   "cell_type": "code",
   "execution_count": 14,
   "id": "b66b352c-c3c0-4c94-bca8-ec5a649f0200",
   "metadata": {},
   "outputs": [],
   "source": [
    "class class1:\n",
    "    def test_class(self):\n",
    "        print(\"This is my class 1st\")"
   ]
  },
  {
   "cell_type": "code",
   "execution_count": 15,
   "id": "83450331-7776-4003-9bd4-e5013afc7aba",
   "metadata": {},
   "outputs": [],
   "source": [
    "class class2(class1):\n",
    "    def test_class2(self):\n",
    "        print(\"This is my class 2nd\")"
   ]
  },
  {
   "cell_type": "code",
   "execution_count": 16,
   "id": "4a6b4da0-2517-4041-bf19-c36c90810021",
   "metadata": {},
   "outputs": [],
   "source": [
    "class class3(class2):\n",
    "    def test_class3(self):\n",
    "        print(\"This is my class3rd\")"
   ]
  },
  {
   "cell_type": "code",
   "execution_count": 17,
   "id": "d2f03d8b-ab71-406c-bc4f-c3189e9ecca4",
   "metadata": {},
   "outputs": [],
   "source": [
    "obj_class3=class3()"
   ]
  },
  {
   "cell_type": "code",
   "execution_count": 18,
   "id": "cc548e41-d770-40e5-b9dc-e2cfd01bea00",
   "metadata": {},
   "outputs": [
    {
     "name": "stdout",
     "output_type": "stream",
     "text": [
      "This is my class 1st\n"
     ]
    }
   ],
   "source": [
    "obj_class3.test_class()"
   ]
  },
  {
   "cell_type": "markdown",
   "id": "09008814-59bc-415b-a5ea-9409703df095",
   "metadata": {},
   "source": [
    "### Q4. What are getter and setter in python? Create a class and create a getter and a setter method in this class.\n"
   ]
  },
  {
   "cell_type": "code",
   "execution_count": null,
   "id": "05169fb5-bcb8-42b2-9fab-9b90d765fb80",
   "metadata": {},
   "outputs": [],
   "source": [
    "Basically, the main purpose of using getters and setters in object-oriented programs is to ensure data encapsulation.\n",
    "Private variables in python are not actually hidden fields like in other object oriented languages"
   ]
  },
  {
   "cell_type": "code",
   "execution_count": null,
   "id": "8575f88c-d960-41f0-8ab1-eea97ff6d659",
   "metadata": {},
   "outputs": [],
   "source": [
    "We use getters & setters to add validation logic around getting and setting a value.\n",
    "To avoid direct access of a class field i.e. private variables cannot be accessed directly or modified by external user."
   ]
  },
  {
   "cell_type": "code",
   "execution_count": 21,
   "id": "b0ac2d96-b26b-431e-9fb5-63a43916436d",
   "metadata": {},
   "outputs": [],
   "source": [
    "class pwskills:\n",
    "    def __init__(self,age=0):\n",
    "        self.age=age\n",
    "    def get_age(self):\n",
    "        return self.age\n",
    "    def set_age(self,age):\n",
    "        self.age=age"
   ]
  },
  {
   "cell_type": "code",
   "execution_count": 22,
   "id": "fe8bdb8a-5a58-4c47-b3c8-f26d05b10a77",
   "metadata": {},
   "outputs": [],
   "source": [
    "obj_pwskills=pwskills()"
   ]
  },
  {
   "cell_type": "code",
   "execution_count": 23,
   "id": "329b4fa0-eb25-41f1-8702-abd026eebe3a",
   "metadata": {},
   "outputs": [],
   "source": [
    "obj_pwskills.set_age(100)"
   ]
  },
  {
   "cell_type": "code",
   "execution_count": 24,
   "id": "0cf79a70-fb48-44cb-91d8-859e7b843bbb",
   "metadata": {},
   "outputs": [
    {
     "data": {
      "text/plain": [
       "100"
      ]
     },
     "execution_count": 24,
     "metadata": {},
     "output_type": "execute_result"
    }
   ],
   "source": [
    "obj_pwskills.get_age()"
   ]
  },
  {
   "cell_type": "markdown",
   "id": "c2f1b30a-155e-4ad4-8e70-9e23a3991419",
   "metadata": {},
   "source": [
    "### Q5.What is method overriding in python? Write a python code to demonstrate method overriding."
   ]
  },
  {
   "cell_type": "code",
   "execution_count": null,
   "id": "fb52f19e-e928-4c20-af49-0d2c7b49ac78",
   "metadata": {},
   "outputs": [],
   "source": [
    "Method overriding is an ability of any object-oriented programming language that allows a subclass or child class to provide a specific implementation of a \n",
    "method thatis already provided by one of its super-classes or parent classes.\n",
    "When a method in a subclass has the same name, same parameters or signature and same return type(or sub-type) as a method in its super-class, \n",
    "then the method in the subclass is said to override the method in the super-class."
   ]
  },
  {
   "cell_type": "code",
   "execution_count": 26,
   "id": "930a616f-ca4d-4c9d-b291-a8e804559b38",
   "metadata": {},
   "outputs": [],
   "source": [
    "# Defining parent class\n",
    "class parent():\n",
    "      \n",
    "    def __init__(self):\n",
    "        self.value = \"Inside Parent\"\n",
    "          \n",
    "    def show(self):\n",
    "        print(self.value)\n",
    "          \n",
    "# Defining child class\n",
    "class child(parent):\n",
    "      \n",
    "    def __init__(self):\n",
    "        self.value = \"Inside Child\"\n",
    "          \n",
    "    def show(self):\n",
    "        print(self.value)"
   ]
  },
  {
   "cell_type": "code",
   "execution_count": 27,
   "id": "49605ad1-faf4-43ff-bb4f-6d2476edc7ef",
   "metadata": {},
   "outputs": [],
   "source": [
    "obj1=parent()"
   ]
  },
  {
   "cell_type": "code",
   "execution_count": 28,
   "id": "410409fe-c7a9-4731-afa7-92a9b308d382",
   "metadata": {},
   "outputs": [
    {
     "name": "stdout",
     "output_type": "stream",
     "text": [
      "Inside Parent\n"
     ]
    }
   ],
   "source": [
    "obj1.show()"
   ]
  },
  {
   "cell_type": "code",
   "execution_count": 29,
   "id": "b8fb6c55-1c89-4e34-b466-00324c751066",
   "metadata": {},
   "outputs": [],
   "source": [
    "obj2=child()"
   ]
  },
  {
   "cell_type": "code",
   "execution_count": 30,
   "id": "668e95c9-3cf2-4a9e-a09b-ade4eb39a4ab",
   "metadata": {},
   "outputs": [
    {
     "name": "stdout",
     "output_type": "stream",
     "text": [
      "Inside Child\n"
     ]
    }
   ],
   "source": [
    "obj2.show()"
   ]
  },
  {
   "cell_type": "code",
   "execution_count": null,
   "id": "9c900488-e820-4159-b668-d2a9853d6a0b",
   "metadata": {},
   "outputs": [],
   "source": []
  },
  {
   "cell_type": "code",
   "execution_count": null,
   "id": "44d9b452-e8a6-42dc-b1f8-b71b38ef5762",
   "metadata": {},
   "outputs": [],
   "source": []
  },
  {
   "cell_type": "code",
   "execution_count": null,
   "id": "d3b48d97-a77c-41ab-a5f2-77f3e488d9aa",
   "metadata": {},
   "outputs": [],
   "source": []
  },
  {
   "cell_type": "code",
   "execution_count": null,
   "id": "615ba82c-4934-4cee-9d98-c25a7a013041",
   "metadata": {},
   "outputs": [],
   "source": []
  }
 ],
 "metadata": {
  "kernelspec": {
   "display_name": "Python 3 (ipykernel)",
   "language": "python",
   "name": "python3"
  },
  "language_info": {
   "codemirror_mode": {
    "name": "ipython",
    "version": 3
   },
   "file_extension": ".py",
   "mimetype": "text/x-python",
   "name": "python",
   "nbconvert_exporter": "python",
   "pygments_lexer": "ipython3",
   "version": "3.10.8"
  }
 },
 "nbformat": 4,
 "nbformat_minor": 5
}
