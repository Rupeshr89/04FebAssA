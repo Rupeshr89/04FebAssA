{
 "cells": [
  {
   "cell_type": "markdown",
   "id": "be0e0e35-011c-4edc-906a-2f94c9d35b4c",
   "metadata": {},
   "source": [
    "### Q.1 what is multithreading in python? why is it used? Name the module used to handle threads in python"
   ]
  },
  {
   "cell_type": "code",
   "execution_count": null,
   "id": "5b166c73-35e2-4fe3-91e2-04fe5c56ea35",
   "metadata": {},
   "outputs": [],
   "source": [
    "Multithreading refers to concurrently executing multiple threads by rapidly switching the control of the CPU between threads\n",
    "(called context switching)."
   ]
  },
  {
   "cell_type": "code",
   "execution_count": null,
   "id": "057e40e3-8382-41b0-95d5-aa3d75530504",
   "metadata": {},
   "outputs": [],
   "source": [
    "Python multithreading enables efficient utilization of the resources as the threads share the data space and memory."
   ]
  },
  {
   "cell_type": "code",
   "execution_count": null,
   "id": "7661dda5-0679-400f-8a69-637271d0a53b",
   "metadata": {},
   "outputs": [],
   "source": [
    "Threading Modules. The threading module is a high-level implementation of multithreading used to deploy an application in Python.\n",
    "To use multithreading, we need to import the threading module in Python Program.\n",
    "A start() method is used to initiate the activity of a thread."
   ]
  },
  {
   "cell_type": "markdown",
   "id": "41335887-901a-43b3-affc-6e7349dfdf00",
   "metadata": {},
   "source": [
    "### Q2. Why threading module used? write the use of the following functions\n",
    "      1.activeCount()\n",
    "      2.currentThread()\n",
    "      3.enumerate()"
   ]
  },
  {
   "cell_type": "code",
   "execution_count": null,
   "id": "9e59e51b-0570-412d-a2d8-ccdb51f7b69b",
   "metadata": {},
   "outputs": [],
   "source": [
    "Python multithreading enables efficient utilization of the resources as the threads share the data space and memory."
   ]
  },
  {
   "cell_type": "markdown",
   "id": "b64e56da-e094-4ed9-87b4-c92f467d22b9",
   "metadata": {},
   "source": [
    "#### 1.activeCount"
   ]
  },
  {
   "cell_type": "code",
   "execution_count": null,
   "id": "52631b9b-df72-4e6a-b4ee-9669fe9e727d",
   "metadata": {},
   "outputs": [],
   "source": [
    "threading.activeCount() − Returns the number of thread objects that are active.\n",
    "threading.currentThread() − Returns the number of thread objects in the caller's thread control."
   ]
  },
  {
   "cell_type": "markdown",
   "id": "576c5752-7228-4f7b-9ad9-65102ba7fdb2",
   "metadata": {},
   "source": [
    "#### 2. currentThread"
   ]
  },
  {
   "cell_type": "code",
   "execution_count": null,
   "id": "b67df85e-e79a-4de0-975a-269eaad3b02a",
   "metadata": {},
   "outputs": [],
   "source": [
    "current_thread() is an inbuilt method of the threading module in Python.\n",
    "It is used to return the current Thread object, which corresponds to the caller's thread of control"
   ]
  },
  {
   "cell_type": "markdown",
   "id": "c4482623-1910-4103-9a02-8b02aab09494",
   "metadata": {},
   "source": [
    "#### 3. enumerate"
   ]
  },
  {
   "cell_type": "code",
   "execution_count": null,
   "id": "7d52a5ee-db75-4c66-bc00-8043abf123b2",
   "metadata": {},
   "outputs": [],
   "source": [
    "threading. enumerate() Return a list of all Thread objects currently active. "
   ]
  },
  {
   "cell_type": "markdown",
   "id": "f89eb47f-e472-4db0-aec3-bd746941b44b",
   "metadata": {},
   "source": [
    "### Q.3. Explain the following functions\n",
    "    1.run()\n",
    "    2.start()\n",
    "    3.join()\n",
    "    4.isAlive()"
   ]
  },
  {
   "cell_type": "markdown",
   "id": "272618c8-6aff-4bd0-a429-f5bf836b56d3",
   "metadata": {},
   "source": [
    "#### run()"
   ]
  },
  {
   "cell_type": "code",
   "execution_count": null,
   "id": "7e878eda-0ffd-439e-8d99-859b3ad0b88f",
   "metadata": {},
   "outputs": [],
   "source": [
    "The . run() method executes any target function belonging to a given thread object that is now active.\n",
    "It normally executes in the background after the . start() method is invoked."
   ]
  },
  {
   "cell_type": "markdown",
   "id": "397871dd-3140-44c9-b67f-67dc25f58f15",
   "metadata": {},
   "source": [
    "#### start()"
   ]
  },
  {
   "cell_type": "code",
   "execution_count": null,
   "id": "545e59f0-c74b-453f-a75a-75b63b021994",
   "metadata": {},
   "outputs": [],
   "source": [
    "start() method is an inbuilt method of the Thread class of the threading module in Python.\n",
    "It is used to start a thread's activity."
   ]
  },
  {
   "cell_type": "markdown",
   "id": "75966834-5723-4724-a108-04260f760225",
   "metadata": {},
   "source": [
    "#### join()"
   ]
  },
  {
   "cell_type": "code",
   "execution_count": null,
   "id": "270fb639-3934-402d-aed0-a68456cb9167",
   "metadata": {},
   "outputs": [],
   "source": [
    "A thread can be joined in Python by calling the Thread. join() method.\n",
    "This has the effect of blocking the current thread until the target thread that has been joined has terminated."
   ]
  },
  {
   "cell_type": "markdown",
   "id": "615eb28a-7c0a-4ffb-afdf-1be94b02e155",
   "metadata": {},
   "source": [
    "#### isAlive()"
   ]
  },
  {
   "cell_type": "code",
   "execution_count": null,
   "id": "2a2a9c70-ae7c-4e2a-b6a2-ed9416edf749",
   "metadata": {},
   "outputs": [],
   "source": [
    "is_alive() method is an inbuilt method of the Thread class of the threading module in Python.\n",
    "It uses a Thread object, and checks whether that thread is alive or not, ie, it is still running or not."
   ]
  },
  {
   "cell_type": "markdown",
   "id": "7f0c4cbc-17d3-46bd-b334-321e864d9b99",
   "metadata": {},
   "source": [
    "### Q.4. Write a python program to create two threads.Thread one must print the list of squares and thread two must print the list of cubes"
   ]
  },
  {
   "cell_type": "code",
   "execution_count": 1,
   "id": "cb3ae1d5-8442-4a4e-a2f9-86eea0672592",
   "metadata": {},
   "outputs": [
    {
     "name": "stdout",
     "output_type": "stream",
     "text": [
      "Square: 100\n",
      "Cube: 1000\n"
     ]
    }
   ],
   "source": [
    "# Python program to illustrate the concept\n",
    "# of threading\n",
    "# importing the threading module\n",
    "import threading\n",
    "\n",
    "\n",
    "def print_cube(num):\n",
    "\t# function to print cube of given num\n",
    "\tprint(\"Cube: {}\" .format(num * num * num))\n",
    "\n",
    "\n",
    "def print_square(num):\n",
    "\t# function to print square of given num\n",
    "\tprint(\"Square: {}\" .format(num * num))\n",
    "\n",
    "\n",
    "if __name__ ==\"__main__\":\n",
    "\t# creating thread\n",
    "\tt1 = threading.Thread(target=print_square, args=(10,))\n",
    "\tt2 = threading.Thread(target=print_cube, args=(10,))\n",
    "\n",
    "\t# starting thread 1\n",
    "\tt1.start()\n",
    "\t# starting thread 2\n",
    "\tt2.start()\n",
    "\n",
    "\t# wait until thread 1 is completely executed\n",
    "\tt1.join()\n",
    "\t# wait until thread 2 is completely executed\n",
    "\tt2.join()\n"
   ]
  },
  {
   "cell_type": "markdown",
   "id": "1756a41e-cc8d-44b9-bb46-e8ca2a3f24a3",
   "metadata": {},
   "source": [
    "### Q5. State advantages and disadvantages of multithreading"
   ]
  },
  {
   "cell_type": "code",
   "execution_count": null,
   "id": "979083ee-7285-4267-a8bd-de402eab2505",
   "metadata": {},
   "outputs": [],
   "source": [
    "#Following are some of the common advantages of multithreading:\n",
    "\n",
    "Enhanced performance by decreased development time\n",
    "Simplified and streamlined program coding\n",
    "Improvised GUI responsiveness\n",
    "Simultaneous and parallelized occurrence of tasks\n",
    "Better use of cache storage by utilization of resources\n",
    "Decreased cost of maintenance\n",
    "Better use of CPU resource"
   ]
  },
  {
   "cell_type": "code",
   "execution_count": null,
   "id": "53200972-e548-408a-b9fb-aba60809400f",
   "metadata": {},
   "outputs": [],
   "source": [
    "# multithreading does not only provide you with benefits, it has its disadvantages too. Let us go through some common disadvantages:\n",
    "\n",
    "Complex debugging and testing processes\n",
    "Overhead switching of context\n",
    "Increased potential for deadlock occurrence\n",
    "Increased difficulty level in writing a program\n",
    "Unpredictable results"
   ]
  },
  {
   "cell_type": "markdown",
   "id": "e4903262-a40c-4aef-915e-e12eedc8578b",
   "metadata": {},
   "source": [
    "### Q6. Explain deadlocks and race conditions."
   ]
  },
  {
   "cell_type": "code",
   "execution_count": null,
   "id": "d8657f9a-7414-4aec-8b7c-52a8b3170eaf",
   "metadata": {},
   "outputs": [],
   "source": [
    "#Race Conditions\n",
    "A race condition occurs when two threads use the same variable at a given time."
   ]
  },
  {
   "cell_type": "code",
   "execution_count": null,
   "id": "f9f9fb3a-3bb7-487f-8854-959b42abe817",
   "metadata": {},
   "outputs": [],
   "source": [
    "# Deadlocks Conditions\n",
    "Deadlock exists when two threads seek one lock simultaneously. "
   ]
  },
  {
   "cell_type": "code",
   "execution_count": null,
   "id": "77d2eb81-f107-49ab-bf3f-8ddc92730142",
   "metadata": {},
   "outputs": [],
   "source": []
  },
  {
   "cell_type": "code",
   "execution_count": null,
   "id": "2bf6a129-aa09-4ccc-837e-ecaea87c457c",
   "metadata": {},
   "outputs": [],
   "source": []
  },
  {
   "cell_type": "code",
   "execution_count": null,
   "id": "258685a4-08e5-48a3-b876-7968376f50d0",
   "metadata": {},
   "outputs": [],
   "source": []
  },
  {
   "cell_type": "code",
   "execution_count": null,
   "id": "3bc5f8bb-7b68-4aa2-bd20-d4e6b7c0b779",
   "metadata": {},
   "outputs": [],
   "source": []
  }
 ],
 "metadata": {
  "kernelspec": {
   "display_name": "Python 3 (ipykernel)",
   "language": "python",
   "name": "python3"
  },
  "language_info": {
   "codemirror_mode": {
    "name": "ipython",
    "version": 3
   },
   "file_extension": ".py",
   "mimetype": "text/x-python",
   "name": "python",
   "nbconvert_exporter": "python",
   "pygments_lexer": "ipython3",
   "version": "3.10.8"
  }
 },
 "nbformat": 4,
 "nbformat_minor": 5
}
