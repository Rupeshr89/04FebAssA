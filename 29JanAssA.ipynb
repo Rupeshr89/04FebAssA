{
 "cells": [
  {
   "cell_type": "markdown",
   "id": "dff18587-d2f4-45df-a0ce-034c12b43252",
   "metadata": {},
   "source": [
    "### Q1. Who Developed python programing language?"
   ]
  },
  {
   "cell_type": "code",
   "execution_count": null,
   "id": "84ee7539-e793-458e-900b-9698f251f8ac",
   "metadata": {},
   "outputs": [],
   "source": [
    "Guido van Rossum developed python programing language."
   ]
  },
  {
   "cell_type": "markdown",
   "id": "1f35a1f3-a524-4833-bf44-0759295c7ef3",
   "metadata": {},
   "source": [
    "### Q2.which type of programming does python support?"
   ]
  },
  {
   "cell_type": "code",
   "execution_count": null,
   "id": "7f62872b-0cfd-4350-a845-34960f7c1139",
   "metadata": {},
   "outputs": [],
   "source": [
    "Python support three programming paradigms: Imperative, Functional, and Object-Oriented."
   ]
  },
  {
   "cell_type": "markdown",
   "id": "dc504a1e-e8b2-4fc4-abb1-31e52d60d9c8",
   "metadata": {},
   "source": [
    "### Q3.Is python case sensitive when dealing with identifiers?"
   ]
  },
  {
   "cell_type": "code",
   "execution_count": null,
   "id": "22007032-80ab-4a79-9fa2-66d40555f8f5",
   "metadata": {},
   "outputs": [],
   "source": [
    "Yes, Python is a case-sensitive language, i.e., it treats uppercase and lowercase characters differently. \n",
    "This applies to identifiers too."
   ]
  },
  {
   "cell_type": "markdown",
   "id": "a02379ad-418e-4fa7-b453-e5c34deadfea",
   "metadata": {},
   "source": [
    "### Q4.What is the correct extension of the python file"
   ]
  },
  {
   "cell_type": "code",
   "execution_count": null,
   "id": "d83215fe-4163-4d3b-87b6-10d80e52d56d",
   "metadata": {},
   "outputs": [],
   "source": [
    ".py is the correct extension of the python file."
   ]
  },
  {
   "cell_type": "markdown",
   "id": "3d6edeb1-4f18-4efc-84e6-fac7e16710c1",
   "metadata": {},
   "source": [
    "### Q5.Is python code are compiled or interpreted?"
   ]
  },
  {
   "cell_type": "code",
   "execution_count": null,
   "id": "05c0b7f4-ea37-438a-98fb-778bc3e2301a",
   "metadata": {},
   "outputs": [],
   "source": [
    "In various books of python programming, it is mentioned that python language is interpreted. \n",
    "But that is half correct the python program is first compiled and then interpreted. \n",
    "The compilation part is hidden from the programmer thus, many programmers believe that it is an interpreted language"
   ]
  },
  {
   "cell_type": "markdown",
   "id": "5030e027-9011-405c-afc0-cf7e74fa8cae",
   "metadata": {},
   "source": [
    "### Q6.Name a few blocks of code used to define in python language."
   ]
  },
  {
   "cell_type": "code",
   "execution_count": null,
   "id": "dfcc8d6a-9a63-4441-9768-3ac73cc54dd7",
   "metadata": {},
   "outputs": [],
   "source": [
    "The following are blocks to define a python language: a module, a function body, and a class definition. "
   ]
  },
  {
   "cell_type": "markdown",
   "id": "604f3ef5-8bb5-401c-b0cd-694d921b865b",
   "metadata": {},
   "source": [
    "### Q7.State a character to give a single line comment in python."
   ]
  },
  {
   "cell_type": "code",
   "execution_count": null,
   "id": "cfecd891-3797-4e1c-b3bf-218c075e6dca",
   "metadata": {},
   "outputs": [],
   "source": [
    "We can write a single-line comment by adding a single (#)\n",
    "character before any statement or line of code"
   ]
  },
  {
   "cell_type": "markdown",
   "id": "0e237063-0dff-4ff0-8c6a-e6e9c42823d0",
   "metadata": {},
   "source": [
    "### Q8.Mention the function which can help us to find the version of python that we are currently using."
   ]
  },
  {
   "cell_type": "code",
   "execution_count": null,
   "id": "4e63f79d-7a5c-4837-81d6-45b1b3f63ad6",
   "metadata": {},
   "outputs": [],
   "source": [
    "The function sys. version can help us to find the version of python that we are currently working on."
   ]
  },
  {
   "cell_type": "markdown",
   "id": "9282194c-0c22-422e-bcaa-8120a88b7e39",
   "metadata": {},
   "source": [
    "### Q9.Python supports the creation of anonymous functions at runtime using a construct called ........ "
   ]
  },
  {
   "cell_type": "code",
   "execution_count": null,
   "id": "a9fcc5ad-494b-4fb8-8ba6-9db7da1cedb0",
   "metadata": {},
   "outputs": [],
   "source": [
    "python supports the creation of anonymous functions at runtime using a construct called \"lambda\""
   ]
  },
  {
   "cell_type": "markdown",
   "id": "0cd68c5e-3f56-4328-80fb-ddadea236a8a",
   "metadata": {},
   "source": [
    "### Q10.What does pip stands for python?"
   ]
  },
  {
   "cell_type": "code",
   "execution_count": null,
   "id": "f0afe661-9540-41ab-b219-2a5158f28c3d",
   "metadata": {},
   "outputs": [],
   "source": [
    "(pip) developed in 2008, pip (an acronym of “pip Install Packages”) is today the standard tool for installing Python packages and their dependencies in a secure manner. \n",
    "Most recent distributions of Python come with pip preinstalled."
   ]
  },
  {
   "cell_type": "markdown",
   "id": "806272d7-dde9-4e59-823c-3dea683f7edd",
   "metadata": {},
   "source": [
    "### Q11.Mention a few in_built function in python?"
   ]
  },
  {
   "cell_type": "code",
   "execution_count": null,
   "id": "4109a0bd-3422-431f-810d-dbf407816cb3",
   "metadata": {},
   "outputs": [],
   "source": [
    "int,float,str,bool,map,lambda,chr,for,while etc."
   ]
  },
  {
   "cell_type": "markdown",
   "id": "0ef845fa-39aa-4498-8013-8523941e7fea",
   "metadata": {},
   "source": [
    "### Q12.What is the maximum possible length of an identifier in python"
   ]
  },
  {
   "cell_type": "code",
   "execution_count": null,
   "id": "e3d1a97a-ca14-4cc3-a17c-4927d12ce8e0",
   "metadata": {},
   "outputs": [],
   "source": [
    "An identifier can have a maximum length of 79 characters in Python."
   ]
  },
  {
   "cell_type": "markdown",
   "id": "1a2b185c-3f0c-4197-a3d4-cbe13e73b137",
   "metadata": {},
   "source": [
    "### Q13.What are the benefits of using python?"
   ]
  },
  {
   "cell_type": "code",
   "execution_count": null,
   "id": "3a81290b-97a0-4716-949f-7aacb2327134",
   "metadata": {},
   "outputs": [],
   "source": [
    "Some benefits of using python....\n",
    "Open source and large active community base \n",
    "Versatile, Easy to read, learn and write\n",
    "User-friendly data structures \n",
    "High-level language \n",
    "Dynamically typed lang etc."
   ]
  },
  {
   "cell_type": "markdown",
   "id": "73cd105a-d4b4-4cb4-99c4-f1c499c651f2",
   "metadata": {},
   "source": [
    "### Q14.How is memory managed in python?"
   ]
  },
  {
   "cell_type": "code",
   "execution_count": null,
   "id": "d4c35cfd-a17b-4a85-a2bb-752aea8ba2d2",
   "metadata": {},
   "outputs": [],
   "source": [
    "Python has a private heap that stores our program’s objects and data structures."
   ]
  },
  {
   "cell_type": "markdown",
   "id": "5f543086-25ff-46fa-aad5-be77e7a4e223",
   "metadata": {},
   "source": [
    "### Q16.How to install python in windows and set path variable?"
   ]
  },
  {
   "cell_type": "code",
   "execution_count": null,
   "id": "6c2fd3cc-f02a-479f-8e3a-092cf097edc6",
   "metadata": {},
   "outputs": [],
   "source": [
    "Open a browser to the Python website and download the Windows installer. \n",
    "2. Double click on the downloaded file and install Python for all users, and ensure that Python is added to your path.\n",
    "Click on Install now to begin."
   ]
  },
  {
   "cell_type": "code",
   "execution_count": null,
   "id": "ccc28498-6690-4f4e-a20d-04e04ee5230a",
   "metadata": {},
   "outputs": [],
   "source": [
    "1.Right-clicking This PC and going to Properties.\n",
    "\n",
    "2.Clicking on the Advanced system settings in the menu on the left.\n",
    "\n",
    "3.Clicking on the Environment Variables button o​n the bottom right.\n",
    "\n",
    "4.In the System variables section, selecting the Path variable and clicking on Edit.\n",
    "The next screen will show all the directories that are currently a part of the PATH variable.\n",
    "\n",
    "5.Clicking on New and entering Python’s install directory."
   ]
  },
  {
   "cell_type": "code",
   "execution_count": null,
   "id": "53800f97-1678-4fac-bf41-175ea504139d",
   "metadata": {},
   "outputs": [],
   "source": [
    "### Q16. Is indentation is required in python?"
   ]
  },
  {
   "cell_type": "code",
   "execution_count": null,
   "id": "c4630c57-2079-44d8-8b7f-f533e89506d3",
   "metadata": {},
   "outputs": [],
   "source": []
  }
 ],
 "metadata": {
  "kernelspec": {
   "display_name": "Python 3 (ipykernel)",
   "language": "python",
   "name": "python3"
  },
  "language_info": {
   "codemirror_mode": {
    "name": "ipython",
    "version": 3
   },
   "file_extension": ".py",
   "mimetype": "text/x-python",
   "name": "python",
   "nbconvert_exporter": "python",
   "pygments_lexer": "ipython3",
   "version": "3.10.8"
  }
 },
 "nbformat": 4,
 "nbformat_minor": 5
}
