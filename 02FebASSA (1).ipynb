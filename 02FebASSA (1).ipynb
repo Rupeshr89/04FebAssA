{
 "cells": [
  {
   "cell_type": "markdown",
   "id": "54e643d1-82e6-4e4f-8131-0c8126dc34c0",
   "metadata": {},
   "source": [
    "### Q1. Explain with an example each when to use a for loop and a while loop."
   ]
  },
  {
   "cell_type": "code",
   "execution_count": null,
   "id": "99ce975e-9f85-4985-bb67-82627546860c",
   "metadata": {},
   "outputs": [],
   "source": [
    "A for loop is used for iterating over a sequence (that is either a list, a tuple, a dictionary, a set, or a string)."
   ]
  },
  {
   "cell_type": "code",
   "execution_count": 2,
   "id": "9cd9eeb3-9e88-4ace-8569-648ec4a21393",
   "metadata": {},
   "outputs": [],
   "source": [
    "t=(2,3,4,5,56,6)"
   ]
  },
  {
   "cell_type": "code",
   "execution_count": 3,
   "id": "8a36bcac-364f-44c4-a77e-4d258270c4a7",
   "metadata": {},
   "outputs": [
    {
     "data": {
      "text/plain": [
       "(2, 3, 4, 5, 56, 6)"
      ]
     },
     "execution_count": 3,
     "metadata": {},
     "output_type": "execute_result"
    }
   ],
   "source": [
    "t"
   ]
  },
  {
   "cell_type": "code",
   "execution_count": 4,
   "id": "8269c438-b7ad-47e4-918e-ab6561920505",
   "metadata": {},
   "outputs": [
    {
     "data": {
      "text/plain": [
       "76"
      ]
     },
     "execution_count": 4,
     "metadata": {},
     "output_type": "execute_result"
    }
   ],
   "source": [
    "sum1=0\n",
    "for i in t:\n",
    "    sum1=sum1+i\n",
    "sum1"
   ]
  },
  {
   "cell_type": "markdown",
   "id": "586abd46-2b04-46d1-8bd8-1d62d60865a9",
   "metadata": {},
   "source": [
    "### Q2. Write a python program to print the sum and product of the first 10 natural numbers using for and while loop."
   ]
  },
  {
   "cell_type": "code",
   "execution_count": 5,
   "id": "6b963b6b-700e-4f97-b247-7e6f6d945b1e",
   "metadata": {},
   "outputs": [
    {
     "name": "stdout",
     "output_type": "stream",
     "text": [
      "1\n",
      "2\n",
      "3\n",
      "4\n",
      "5\n",
      "6\n",
      "7\n",
      "8\n",
      "9\n",
      "10\n"
     ]
    },
    {
     "data": {
      "text/plain": [
       "55"
      ]
     },
     "execution_count": 5,
     "metadata": {},
     "output_type": "execute_result"
    }
   ],
   "source": [
    "sum2=0\n",
    "for i in range(1,11):\n",
    "    print(i)\n",
    "    sum2=sum2+i\n",
    "sum2"
   ]
  },
  {
   "cell_type": "markdown",
   "id": "914f6269-e03e-46e2-95cb-d525654bc2ac",
   "metadata": {},
   "source": [
    "### Q3. Create a python program to compute the electricity bill for a household.The per-unit charges in rupees are as follows: For the first 100 units, the user will be charged Rs. 4.5 perunit, for the next 100 units, the user will be charged Rs. 6 per unit, and for the next 100 units, the user will be charged Rs. 10 per unit, After 300 units and above the user will be charged Rs. 20 per unit. You are required to take the units of electricity consumed in a month from the user as input. Your program must pass this test case: when the unit of electricity consumed by the user in a month is 310, the total electricity bill should be 2250."
   ]
  },
  {
   "cell_type": "code",
   "execution_count": 6,
   "id": "bda4f90a-0cf1-4563-9791-6f1b20dfbff4",
   "metadata": {},
   "outputs": [
    {
     "name": "stdin",
     "output_type": "stream",
     "text": [
      "Enter the consumed electric unit :  310\n"
     ]
    },
    {
     "name": "stdout",
     "output_type": "stream",
     "text": [
      "2250.0\n"
     ]
    }
   ],
   "source": [
    "electric_unit=int(input(\"Enter the consumed electric unit : \"))\n",
    "\n",
    "if electric_unit>0 and electric_unit<=100:\n",
    "    charge=electric_unit * 4.50\n",
    "\n",
    "elif electric_unit>100 and electric_unit<=200:\n",
    "    charge=100*4.50 + (electric_unit-100)*6\n",
    "\n",
    "elif electric_unit>200 and electric_unit<=300:\n",
    "    charge=100*4.50 + 100*6 + (electric_unit-200)*10\n",
    "elif electric_unit>300:\n",
    "    charge=100*4.50 + 100*6 + 100*10 + (electric_unit-300)*20\n",
    "print(charge)\n",
    "\n",
    "    "
   ]
  },
  {
   "cell_type": "markdown",
   "id": "1e80d0d8-e677-4fab-b5e4-b6fd58df80bd",
   "metadata": {},
   "source": [
    "### Q4. Create a list of numbers from 1 to 100. Use for loop and while loop to calculate the cube of each number and if the cube of that number is divisible by 4 or 5 then append that number in a list and print that list."
   ]
  },
  {
   "cell_type": "code",
   "execution_count": null,
   "id": "e066e4d5-daf5-484a-b046-0e788e2d4038",
   "metadata": {},
   "outputs": [],
   "source": [
    "# Cube list usig while loop"
   ]
  },
  {
   "cell_type": "code",
   "execution_count": 7,
   "id": "ffa9b031-0e49-432c-a250-cdcd169d1e31",
   "metadata": {},
   "outputs": [
    {
     "name": "stdout",
     "output_type": "stream",
     "text": [
      "[1, 8, 27, 64, 125, 216, 343, 512, 729, 1000, 1331, 1728, 2197, 2744, 3375, 4096, 4913, 5832, 6859, 8000, 9261, 10648, 12167, 13824, 15625, 17576, 19683, 21952, 24389, 27000, 29791, 32768, 35937, 39304, 42875, 46656, 50653, 54872, 59319, 64000, 68921, 74088, 79507, 85184, 91125, 97336, 103823, 110592, 117649, 125000, 132651, 140608, 148877, 157464, 166375, 175616, 185193, 195112, 205379, 216000, 226981, 238328, 250047, 262144, 274625, 287496, 300763, 314432, 328509, 343000, 357911, 373248, 389017, 405224, 421875, 438976, 456533, 474552, 493039, 512000, 531441, 551368, 571787, 592704, 614125, 636056, 658503, 681472, 704969, 729000, 753571, 778688, 804357, 830584, 857375, 884736, 912673, 941192, 970299, 1000000]\n"
     ]
    }
   ],
   "source": [
    "a=1\n",
    "lst=[]\n",
    "while a <=100:\n",
    "    lst.append(a*a*a)\n",
    "    a=a+1\n",
    "print(lst)"
   ]
  },
  {
   "cell_type": "code",
   "execution_count": null,
   "id": "9c501978-a7b6-49f6-ae25-5b8f1d891200",
   "metadata": {},
   "outputs": [],
   "source": []
  },
  {
   "cell_type": "code",
   "execution_count": 8,
   "id": "10e9f1bc-f71f-4838-a0ee-e49a74c9f713",
   "metadata": {},
   "outputs": [
    {
     "name": "stdout",
     "output_type": "stream",
     "text": [
      "[1, 8, 27, 64, 125, 216, 343, 512, 729, 1000, 1331, 1728, 2197, 2744, 3375, 4096, 4913, 5832, 6859, 8000, 9261, 10648, 12167, 13824, 15625, 17576, 19683, 21952, 24389, 27000, 29791, 32768, 35937, 39304, 42875, 46656, 50653, 54872, 59319, 64000, 68921, 74088, 79507, 85184, 91125, 97336, 103823, 110592, 117649, 125000, 132651, 140608, 148877, 157464, 166375, 175616, 185193, 195112, 205379, 216000, 226981, 238328, 250047, 262144, 274625, 287496, 300763, 314432, 328509, 343000, 357911, 373248, 389017, 405224, 421875, 438976, 456533, 474552, 493039, 512000, 531441, 551368, 571787, 592704, 614125, 636056, 658503, 681472, 704969, 729000, 753571, 778688, 804357, 830584, 857375, 884736, 912673, 941192, 970299, 1000000]\n"
     ]
    }
   ],
   "source": [
    "# Cube list using for loop\n",
    "lst1=[]\n",
    "for i in range(1,101):\n",
    "    lst1.append(i**3)\n",
    "print(lst1)"
   ]
  },
  {
   "cell_type": "code",
   "execution_count": 9,
   "id": "d6dd2e76-132d-4a46-a66b-0a45f8c2f006",
   "metadata": {},
   "outputs": [
    {
     "name": "stdout",
     "output_type": "stream",
     "text": [
      "[8, 64, 125, 216, 512, 1000, 1728, 2744, 3375, 4096, 5832, 8000, 10648, 13824, 15625, 17576, 21952, 27000, 32768, 39304, 42875, 46656, 54872, 64000, 74088, 85184, 91125, 97336, 110592, 125000, 140608, 157464, 166375, 175616, 195112, 216000, 238328, 262144, 274625, 287496, 314432, 343000, 373248, 405224, 421875, 438976, 474552, 512000, 551368, 592704, 614125, 636056, 681472, 729000, 778688, 830584, 857375, 884736, 941192, 1000000]\n"
     ]
    }
   ],
   "source": [
    "lst2=[]\n",
    "for i in lst:\n",
    "    if i % 4==0 or i % 5==0:\n",
    "        lst2.append(i)\n",
    "print(lst2)"
   ]
  },
  {
   "cell_type": "markdown",
   "id": "9519db52-17f3-41fe-8bcd-1c06757f36b0",
   "metadata": {},
   "source": [
    "### Q5. Write a program to filter count vowels in the below-given string. \n",
    "string = \"I want to become a data scientist\""
   ]
  },
  {
   "cell_type": "code",
   "execution_count": null,
   "id": "425dbe81-93c4-4d91-8c0e-f83d5493426e",
   "metadata": {},
   "outputs": [],
   "source": [
    "s=\"I want to become a data scientist\"\n",
    "s1=s.lower()\n",
    "count=0\n",
    "vovel=['a','e','i','o','u']\n",
    "for i in s1:\n",
    "    if i in vovel:\n",
    "        count=count+1\n",
    "print(\"Number of vovel are \",count"
   ]
  },
  {
   "cell_type": "code",
   "execution_count": null,
   "id": "12c52b9a-80ee-4c16-b86b-ec5530cdd2b8",
   "metadata": {},
   "outputs": [],
   "source": []
  }
 ],
 "metadata": {
  "kernelspec": {
   "display_name": "Python 3 (ipykernel)",
   "language": "python",
   "name": "python3"
  },
  "language_info": {
   "codemirror_mode": {
    "name": "ipython",
    "version": 3
   },
   "file_extension": ".py",
   "mimetype": "text/x-python",
   "name": "python",
   "nbconvert_exporter": "python",
   "pygments_lexer": "ipython3",
   "version": "3.10.8"
  }
 },
 "nbformat": 4,
 "nbformat_minor": 5
}
