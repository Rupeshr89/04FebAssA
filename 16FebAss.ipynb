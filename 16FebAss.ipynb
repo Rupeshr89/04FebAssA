{
 "cells": [
  {
   "cell_type": "markdown",
   "id": "03bbc9ef-dd45-48f6-961d-1fb9da27c9be",
   "metadata": {},
   "source": [
    "### Q1. What is a database? Differentiate between SQL and NoSQL databases."
   ]
  },
  {
   "cell_type": "code",
   "execution_count": null,
   "id": "00d7dc85-57e2-47f0-8446-e827efe03e78",
   "metadata": {},
   "outputs": [],
   "source": [
    "Database is a collection of highly structured tables, wherein each row reflects a data entity, \n",
    "and every column defines a specific information field"
   ]
  },
  {
   "cell_type": "code",
   "execution_count": null,
   "id": "19c95135-dcd0-4f58-901c-0519d91baa94",
   "metadata": {},
   "outputs": [],
   "source": [
    "#SQL"
   ]
  },
  {
   "cell_type": "code",
   "execution_count": null,
   "id": "d7120be3-46e1-438e-9e27-caf2f6263ecc",
   "metadata": {},
   "outputs": [],
   "source": [
    "These databases have fixed or static or predefined schema"
   ]
  },
  {
   "cell_type": "code",
   "execution_count": null,
   "id": "1b9142a1-910a-4d55-987b-1bcce8999d0d",
   "metadata": {},
   "outputs": [],
   "source": [
    "These databases are not suited for hierarchical data storage."
   ]
  },
  {
   "cell_type": "code",
   "execution_count": null,
   "id": "27e1c37b-ee62-45ad-b2d9-965a05df6c5e",
   "metadata": {},
   "outputs": [],
   "source": [
    "These databases are best suited for complex queries"
   ]
  },
  {
   "cell_type": "code",
   "execution_count": null,
   "id": "a0df6a80-e8eb-4db3-9d9c-7228b3eb504b",
   "metadata": {},
   "outputs": [],
   "source": [
    "Vertically Scalable"
   ]
  },
  {
   "cell_type": "code",
   "execution_count": null,
   "id": "407ccce0-d938-4884-b4c2-8525dbc497a1",
   "metadata": {},
   "outputs": [],
   "source": [
    "#NOSQL"
   ]
  },
  {
   "cell_type": "code",
   "execution_count": null,
   "id": "f465abea-2a0e-4e31-a389-8181bd089bea",
   "metadata": {},
   "outputs": [],
   "source": [
    "They have dynamic schema"
   ]
  },
  {
   "cell_type": "code",
   "execution_count": null,
   "id": "06c87571-66e1-4b58-88c1-ba3da3d95ff8",
   "metadata": {},
   "outputs": [],
   "source": [
    "These databases are best suited for hierarchical data storage."
   ]
  },
  {
   "cell_type": "code",
   "execution_count": null,
   "id": "2748c3d3-276d-4b76-a3b4-12927a25d441",
   "metadata": {},
   "outputs": [],
   "source": [
    "These databases are not so good for complex queries"
   ]
  },
  {
   "cell_type": "code",
   "execution_count": null,
   "id": "60e2a58c-ced9-487e-93ef-4dbd85d99fc7",
   "metadata": {},
   "outputs": [],
   "source": [
    "Horizontally scalable"
   ]
  },
  {
   "cell_type": "markdown",
   "id": "45167a52-97f5-430e-8a39-5d2d9fbedf54",
   "metadata": {},
   "source": [
    "### Q2. What is DDL? Explain why CREATE, DROP, ALTER, and TRUNCATE are used with an example."
   ]
  },
  {
   "cell_type": "code",
   "execution_count": null,
   "id": "54a2bb3f-a603-4507-905f-76b8f18cdb65",
   "metadata": {},
   "outputs": [],
   "source": [
    "Data Definition Language (DDL) is a subset of SQL. It is a language for describing data and its relationships in a database.\n",
    "You can generate DDL in a script for database objects to: Keep a snapshot of the database structure. "
   ]
  },
  {
   "cell_type": "code",
   "execution_count": null,
   "id": "6ca47b09-4e9b-462a-ba3b-a9ac467b6db9",
   "metadata": {},
   "outputs": [],
   "source": [
    "#CREATE :\n",
    "This command is used to create a new table in SQL. The user has to give information like table name, column names, and their datatypes."
   ]
  },
  {
   "cell_type": "code",
   "execution_count": null,
   "id": "76ee4b64-5e3e-4fb6-8b4c-f9b16f2fc7cf",
   "metadata": {},
   "outputs": [],
   "source": [
    "import mysql.connector"
   ]
  },
  {
   "cell_type": "code",
   "execution_count": null,
   "id": "494143a2-838b-452a-99c6-e30e924d6c59",
   "metadata": {},
   "outputs": [],
   "source": [
    "CREATE TABLE Student_info\n",
    "(\n",
    "College_Id number(2),\n",
    "College_name varchar(30),\n",
    "Branch varchar(10)\n",
    ");"
   ]
  },
  {
   "cell_type": "code",
   "execution_count": null,
   "id": "a2df9c52-ba80-4b84-b92d-cb11fa64063a",
   "metadata": {},
   "outputs": [],
   "source": [
    "# ALTER :\n",
    "This command is used to add, delete or change columns in the existing table.\n",
    "The user needs to know the existing table name and can do add, delete or modify tasks easily."
   ]
  },
  {
   "cell_type": "code",
   "execution_count": null,
   "id": "402d193f-5ec3-4117-874e-9c8e37862dd0",
   "metadata": {},
   "outputs": [],
   "source": [
    "ALTER TABLE Student_info\n",
    "ADD CGPA number;"
   ]
  },
  {
   "cell_type": "code",
   "execution_count": null,
   "id": "ac1d0dea-d052-4d10-98c9-b926bd77107e",
   "metadata": {},
   "outputs": [],
   "source": [
    "#TRUNCATE :\n",
    "This command is used to remove all rows from the table, but the structure of the table still exists."
   ]
  },
  {
   "cell_type": "code",
   "execution_count": null,
   "id": "24abe325-86f1-46f8-aa3b-1deaab29af1b",
   "metadata": {},
   "outputs": [],
   "source": [
    "TRUNCATE TABLE table_name;"
   ]
  },
  {
   "cell_type": "code",
   "execution_count": null,
   "id": "f870905d-3416-4766-9dfa-2a000eb9abf0",
   "metadata": {},
   "outputs": [],
   "source": [
    "#DROP :\n",
    "This command is used to remove an existing table along with its structure from the Database."
   ]
  },
  {
   "cell_type": "markdown",
   "id": "a9a91b77-13c5-4383-980a-2a75f661a6bc",
   "metadata": {},
   "source": [
    "### Q3. What is DML? Explain INSERT, UPDATE, and DELETE with an example."
   ]
  },
  {
   "cell_type": "code",
   "execution_count": null,
   "id": "9510446a-9f1d-486c-a6dc-a6acfd0c6efa",
   "metadata": {},
   "outputs": [],
   "source": [
    "#DML(Data Manipulation Language): \n",
    "The SQL commands that deals with the manipulation of data present in the database belong to DML or Data Manipulation Language and\n",
    "this includes most of the SQL statements. It is the component of the SQL statement that controls access to data and to the database.\n",
    "Basically, DCL statements are grouped with DML statements."
   ]
  },
  {
   "cell_type": "code",
   "execution_count": null,
   "id": "8066d91b-5dd9-49ab-8a0b-2a39aa877713",
   "metadata": {},
   "outputs": [],
   "source": [
    "#INSERT\n",
    "Insert command is used to insert data into a table"
   ]
  },
  {
   "cell_type": "code",
   "execution_count": null,
   "id": "0f566228-49b8-4289-aeb5-1e4d4f787afc",
   "metadata": {},
   "outputs": [],
   "source": [
    "Insert into <table_name> (column list) values (column values);"
   ]
  },
  {
   "cell_type": "code",
   "execution_count": null,
   "id": "5ec1165e-cd81-4e2c-bd1b-37721a65a54d",
   "metadata": {},
   "outputs": [],
   "source": [
    "#DELETE\n",
    "Delete command is used to delete records from a database table."
   ]
  },
  {
   "cell_type": "code",
   "execution_count": null,
   "id": "8b79d667-5898-4d51-91ea-6c47bbad4d2d",
   "metadata": {},
   "outputs": [],
   "source": [
    " Delete from <table_name>WHERE condition;"
   ]
  },
  {
   "cell_type": "code",
   "execution_count": null,
   "id": "29e0ac7d-1eb3-4877-b061-44ad18afe721",
   "metadata": {},
   "outputs": [],
   "source": [
    "#UPDATE\n",
    "Update command is used to update existing data within a table."
   ]
  },
  {
   "cell_type": "code",
   "execution_count": null,
   "id": "6b2bda94-c1af-4425-ac58-f11c53f4eea2",
   "metadata": {},
   "outputs": [],
   "source": [
    "UPDATE <table_name> SET column_number =value_number WHERE condition;"
   ]
  },
  {
   "cell_type": "markdown",
   "id": "0fee1d41-9606-4153-a66f-2e0ae6c4dedd",
   "metadata": {},
   "source": [
    "### Q4. What is DQL? Explain SELECT with an example."
   ]
  },
  {
   "cell_type": "code",
   "execution_count": null,
   "id": "e98f16dd-d25a-4657-964c-816d3a00e321",
   "metadata": {},
   "outputs": [],
   "source": [
    "DQL statements are used for performing queries on the data within schema objects.\n",
    "The purpose of the DQL Command is to get some schema relation based on the query passed to it.\n",
    "We can define DQL as follows it is a component of SQL statement that allows getting data from the database and imposing order upon it.\n",
    "It includes the SELECT statement."
   ]
  },
  {
   "cell_type": "code",
   "execution_count": null,
   "id": "96de160b-34a6-4f65-bd27-33a0e9b0a2c8",
   "metadata": {},
   "outputs": [],
   "source": [
    "An SQL SELECT statement retrieves records from a database table according to clauses (for example, FROM and WHERE ) that specify criteria. "
   ]
  },
  {
   "cell_type": "code",
   "execution_count": null,
   "id": "3472242f-69c6-4f57-aee1-c82b51e6c8ed",
   "metadata": {},
   "outputs": [],
   "source": [
    "SELECT * FROM Customers WHERE Last_Name='Smith';"
   ]
  },
  {
   "cell_type": "markdown",
   "id": "d2eae1fc-ec94-49a0-ab6f-3f9459e8c95b",
   "metadata": {},
   "source": [
    "### Q5. Explain Primary Key and Foreign Key."
   ]
  },
  {
   "cell_type": "code",
   "execution_count": null,
   "id": "ecbae22a-6b74-4adf-9b79-77be9e7904e2",
   "metadata": {},
   "outputs": [],
   "source": [
    "A relational database is designed to enforce the uniqueness of primary keys by allowing only one row with \n",
    "a given primary key value in a table. A foreign key is a column or a set of columns in a table whose values\n",
    "correspond to the values of the primary key in another table."
   ]
  },
  {
   "cell_type": "markdown",
   "id": "cd035205-e19f-4f74-bd77-5f70ac676702",
   "metadata": {},
   "source": [
    "### Q6. Write a python code to connect MySQL to python. Explain the cursor() and execute() method."
   ]
  },
  {
   "cell_type": "code",
   "execution_count": null,
   "id": "51f1972e-6254-4ed7-aa85-3e3eb0d734b6",
   "metadata": {},
   "outputs": [],
   "source": [
    "import mysql.connector\n",
    "\n",
    "mydb = mysql.connector.connect(\n",
    "  host=\"localhost\",\n",
    "  user=\"yourusername\",\n",
    "  password=\"yourpassword\",\n",
    "  database=\"mydatabase\"\n",
    ")\n",
    "\n",
    "mycursor = mydb.cursor()\n",
    "\n",
    "mycursor.execute(\"SELECT * FROM customers\")\n",
    "\n",
    "myresult = mycursor.fetchall()\n",
    "\n",
    "for x in myresult:\n",
    "      print(x)"
   ]
  },
  {
   "cell_type": "markdown",
   "id": "9a1deae3-36f9-4980-bf87-ffc9d48281a9",
   "metadata": {},
   "source": [
    "### Q7. Give the order of execution of SQL clauses in an SQL query."
   ]
  },
  {
   "cell_type": "code",
   "execution_count": null,
   "id": "cf0e32d7-c319-4d93-8cd4-fb0407ed2fa7",
   "metadata": {},
   "outputs": [],
   "source": [
    "OrderClause\t      Function\n",
    "1\t      FROM\t    Tables are joined to get the base data.\n",
    "2\t      WHERE\t    The base data is filtered.\n",
    "3\t      GROUP BY\tThe filtered base data is grouped.\n",
    "4\t      HAVING\t    The grouped base data is filtered.\n",
    "5\t      SELECT\t    The final data is returned.\n",
    "6\t      ORDER BY\tThe final data is sorted.\n",
    "7\t      LIMIT\t    The returned data is limited to row count."
   ]
  },
  {
   "cell_type": "code",
   "execution_count": null,
   "id": "84c0381a-7f1b-4cff-b72e-dbc285c8daca",
   "metadata": {},
   "outputs": [],
   "source": []
  },
  {
   "cell_type": "code",
   "execution_count": null,
   "id": "daaece19-7e90-4dcc-8c6f-13540d432c0c",
   "metadata": {},
   "outputs": [],
   "source": []
  },
  {
   "cell_type": "code",
   "execution_count": null,
   "id": "3577e504-750b-47e8-a0d4-dad8e2b2913b",
   "metadata": {},
   "outputs": [],
   "source": []
  },
  {
   "cell_type": "code",
   "execution_count": null,
   "id": "4d524fd0-54e3-4bb2-b0fe-f7cf0abb6622",
   "metadata": {},
   "outputs": [],
   "source": []
  },
  {
   "cell_type": "code",
   "execution_count": null,
   "id": "7b7aca95-a453-49e7-854c-05b6cec6bb8f",
   "metadata": {},
   "outputs": [],
   "source": []
  },
  {
   "cell_type": "code",
   "execution_count": null,
   "id": "b033ef1c-f766-4917-bd22-e074d1773770",
   "metadata": {},
   "outputs": [],
   "source": []
  },
  {
   "cell_type": "code",
   "execution_count": null,
   "id": "82c925fe-c75c-412f-88d2-5bda06a41103",
   "metadata": {},
   "outputs": [],
   "source": []
  },
  {
   "cell_type": "code",
   "execution_count": null,
   "id": "389e82a3-d571-478e-a9cb-115edc58ab2a",
   "metadata": {},
   "outputs": [],
   "source": []
  },
  {
   "cell_type": "code",
   "execution_count": null,
   "id": "a266952a-2e3b-400d-9732-1fafd57da213",
   "metadata": {},
   "outputs": [],
   "source": []
  }
 ],
 "metadata": {
  "kernelspec": {
   "display_name": "Python 3 (ipykernel)",
   "language": "python",
   "name": "python3"
  },
  "language_info": {
   "codemirror_mode": {
    "name": "ipython",
    "version": 3
   },
   "file_extension": ".py",
   "mimetype": "text/x-python",
   "name": "python",
   "nbconvert_exporter": "python",
   "pygments_lexer": "ipython3",
   "version": "3.10.8"
  }
 },
 "nbformat": 4,
 "nbformat_minor": 5
}
