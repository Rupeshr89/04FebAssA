{
 "cells": [
  {
   "cell_type": "markdown",
   "id": "ee75b078-9078-4b6c-90ea-6ce7e498845e",
   "metadata": {},
   "source": [
    "### Q1. What is an Exception in python? Write the differen,e etween Exceptions and synntx errors"
   ]
  },
  {
   "cell_type": "code",
   "execution_count": null,
   "id": "75a56b89-ad49-43e5-9ac5-d8a2333dea22",
   "metadata": {},
   "outputs": [],
   "source": [
    "An exception is an event, which occurs during the execution of a program that disrupts the normal flow of the program's instructions.\n",
    "In general, when a Python script encounters a situation that it cannot cope with, it raises an exception.\n",
    "An exception is a Python object that represents an error."
   ]
  },
  {
   "cell_type": "code",
   "execution_count": null,
   "id": "211db702-6c48-40f1-8d12-3fa02f4fda90",
   "metadata": {},
   "outputs": [],
   "source": [
    "An error is an issue in a program that prevents the program from completing its task.\n",
    "In comparison, an exception is a condition that interrupts the normal flow of the program.\n",
    "Both errors and exceptions are a type of runtime error, which means they occur during the execution of a program."
   ]
  },
  {
   "cell_type": "markdown",
   "id": "e3906144-6954-4252-8e0e-5844a888955e",
   "metadata": {},
   "source": [
    "### Q2. What happenes when an exception is not handeled? Explain with an example."
   ]
  },
  {
   "cell_type": "code",
   "execution_count": null,
   "id": "58b0a68b-641a-4787-ba52-17b4e156ea56",
   "metadata": {},
   "outputs": [],
   "source": [
    "An exception handler handles a specific class can also handle its subclasses.\n",
    "If no exception handler is found in the call stack, the program terminates."
   ]
  },
  {
   "cell_type": "code",
   "execution_count": null,
   "id": "da7107cc-5c9e-4752-9abd-b8221533646b",
   "metadata": {},
   "outputs": [],
   "source": []
  },
  {
   "cell_type": "code",
   "execution_count": null,
   "id": "fd98d8eb-88c7-41c1-94c6-d140318a6f6c",
   "metadata": {},
   "outputs": [],
   "source": []
  },
  {
   "cell_type": "markdown",
   "id": "555cb077-5667-4d64-b176-79e36dd099a4",
   "metadata": {},
   "source": [
    "### Q3.Which Python statements  are used to catch and handle exceptions? Explain with an example."
   ]
  },
  {
   "cell_type": "code",
   "execution_count": null,
   "id": "4fabf886-05f6-4f08-aec1-bb3acc7d47f2",
   "metadata": {},
   "outputs": [],
   "source": [
    "The try and except block in Python is used to catch and handle exceptions."
   ]
  },
  {
   "cell_type": "code",
   "execution_count": 1,
   "id": "e80948b4-b527-41b9-b03f-064c73c83bcf",
   "metadata": {},
   "outputs": [
    {
     "name": "stdout",
     "output_type": "stream",
     "text": [
      "This is my except block [Errno 2] No such file or directory: 'test5.txt'\n"
     ]
    }
   ],
   "source": [
    "try :\n",
    "    f=open(\"test5.txt\",'r')\n",
    "except Exception as e:\n",
    "    print(\"This is my except block\",e)"
   ]
  },
  {
   "cell_type": "markdown",
   "id": "74cd9cb3-fd16-47b3-9115-eddd0e7a0734",
   "metadata": {},
   "source": [
    "### Q4. Explain with an example:\n",
    "### try and else\n",
    "### finally\n",
    "### raise"
   ]
  },
  {
   "cell_type": "code",
   "execution_count": null,
   "id": "8023b51c-c9a8-44ae-8c30-7c272b1a3244",
   "metadata": {},
   "outputs": [],
   "source": [
    "try and else"
   ]
  },
  {
   "cell_type": "code",
   "execution_count": null,
   "id": "434fe4cc-d9e2-469f-88fb-8b3b3ba2ed3d",
   "metadata": {},
   "outputs": [],
   "source": [
    "The try block lets you test a block of code for errors."
   ]
  },
  {
   "cell_type": "code",
   "execution_count": null,
   "id": "1e7debae-044b-409a-ad04-3158ba4841eb",
   "metadata": {},
   "outputs": [],
   "source": [
    "The else keyword is used in conditional statements (if statements), and decides what to do if the condition is False."
   ]
  },
  {
   "cell_type": "code",
   "execution_count": 2,
   "id": "a3450205-f5c2-41dc-88be-21c4d9f0e661",
   "metadata": {},
   "outputs": [
    {
     "name": "stdout",
     "output_type": "stream",
     "text": [
      "This will executed once your tyr will executed without error\n"
     ]
    }
   ],
   "source": [
    "try :\n",
    "    f=open(\"test6.txt\",'w')\n",
    "    f.write(\"write in to my file\")\n",
    "except Exception as e:\n",
    "    print(\"This is my except block\",e)\n",
    "else:\n",
    "    f.close()\n",
    "    print(\"This will executed once your tyr will executed without error\")"
   ]
  },
  {
   "cell_type": "code",
   "execution_count": null,
   "id": "9189b688-538f-497e-b60a-6a957f130f1d",
   "metadata": {},
   "outputs": [],
   "source": [
    "finally"
   ]
  },
  {
   "cell_type": "code",
   "execution_count": null,
   "id": "fbef0b1d-2c70-4e11-abdc-71fa0015d93c",
   "metadata": {},
   "outputs": [],
   "source": [
    "It defines a block of code to run when the try... except...else block is final.\n",
    "The finally block will be executed no matter if the try block raises an error or not"
   ]
  },
  {
   "cell_type": "code",
   "execution_count": 3,
   "id": "4175e0ac-7ada-4805-9fa4-9046f18fd4eb",
   "metadata": {},
   "outputs": [
    {
     "name": "stdout",
     "output_type": "stream",
     "text": [
      "finally will execute in any situation\n"
     ]
    }
   ],
   "source": [
    "try:\n",
    "    f=open(\"test8.txt\",'w')\n",
    "    f.write(\"write something\")\n",
    "finally:\n",
    "    print(\"finally will execute in any situation\")"
   ]
  },
  {
   "cell_type": "code",
   "execution_count": null,
   "id": "6c774130-86f6-494d-975f-dec4a7162277",
   "metadata": {},
   "outputs": [],
   "source": [
    "raise"
   ]
  },
  {
   "cell_type": "code",
   "execution_count": null,
   "id": "7489d663-1437-4ec9-9873-1158ec917168",
   "metadata": {},
   "outputs": [],
   "source": [
    "The raise keyword raises a specific exception when a condition is met or the code encounters an error. "
   ]
  },
  {
   "cell_type": "code",
   "execution_count": 4,
   "id": "9016109d-1178-4e57-86de-51fcd3fd651e",
   "metadata": {},
   "outputs": [
    {
     "ename": "Exception",
     "evalue": "The number shouldn't be an odd integer",
     "output_type": "error",
     "traceback": [
      "\u001b[0;31m---------------------------------------------------------------------------\u001b[0m",
      "\u001b[0;31mException\u001b[0m                                 Traceback (most recent call last)",
      "Cell \u001b[0;32mIn[4], line 4\u001b[0m\n\u001b[1;32m      1\u001b[0m a \u001b[38;5;241m=\u001b[39m \u001b[38;5;241m5\u001b[39m\n\u001b[1;32m      3\u001b[0m \u001b[38;5;28;01mif\u001b[39;00m a \u001b[38;5;241m%\u001b[39m \u001b[38;5;241m2\u001b[39m \u001b[38;5;241m!=\u001b[39m \u001b[38;5;241m0\u001b[39m:\n\u001b[0;32m----> 4\u001b[0m     \u001b[38;5;28;01mraise\u001b[39;00m \u001b[38;5;167;01mException\u001b[39;00m(\u001b[38;5;124m\"\u001b[39m\u001b[38;5;124mThe number shouldn\u001b[39m\u001b[38;5;124m'\u001b[39m\u001b[38;5;124mt be an odd integer\u001b[39m\u001b[38;5;124m\"\u001b[39m)\n",
      "\u001b[0;31mException\u001b[0m: The number shouldn't be an odd integer"
     ]
    }
   ],
   "source": [
    "a = 5\n",
    "  \n",
    "if a % 2 != 0:\n",
    "    raise Exception(\"The number shouldn't be an odd integer\")"
   ]
  },
  {
   "cell_type": "markdown",
   "id": "fbcf0d64-8e16-472e-86f4-622353745038",
   "metadata": {},
   "source": [
    "### Q5. What are Custom Exceptions in python? Why do we need Custom Exceptions? Explain with an example."
   ]
  },
  {
   "cell_type": "code",
   "execution_count": null,
   "id": "4506b7c5-382b-4f48-a9b2-4e27f55adb01",
   "metadata": {},
   "outputs": [],
   "source": [
    "In Python, we can define custom exceptions by creating a new class that is derived from the built-in Exception class."
   ]
  },
  {
   "cell_type": "code",
   "execution_count": null,
   "id": "64ce9a81-1190-41a9-a77c-72a8e4dfd4e8",
   "metadata": {},
   "outputs": [],
   "source": [
    "Built-in exceptions offer information about Python-related problems, and custom exceptions will add information about project-related problems."
   ]
  },
  {
   "cell_type": "code",
   "execution_count": 2,
   "id": "4ca4b3c6-8ffb-41f1-b9a0-bc0081bc823c",
   "metadata": {},
   "outputs": [
    {
     "name": "stdin",
     "output_type": "stream",
     "text": [
      "Enter a number:  18\n"
     ]
    },
    {
     "name": "stdout",
     "output_type": "stream",
     "text": [
      "Eligible to Vote\n"
     ]
    }
   ],
   "source": [
    "number = 18\n",
    "\n",
    "try:\n",
    "    input_num = int(input(\"Enter a number: \"))\n",
    "    if input_num < number:\n",
    "        raise InvalidAgeException\n",
    "    else:\n",
    "        print(\"Eligible to Vote\")\n",
    "        \n",
    "except InvalidAgeException:\n",
    "    print(\"Exception occurred: Invalid Age\")"
   ]
  },
  {
   "cell_type": "markdown",
   "id": "d44c1897-932f-4312-b694-757bfb29cd62",
   "metadata": {},
   "source": [
    "### Q6. Create custom exception class. Use this class to handle an exception."
   ]
  },
  {
   "cell_type": "code",
   "execution_count": null,
   "id": "b8767205-eba4-4da7-803d-027495018985",
   "metadata": {},
   "outputs": [],
   "source": []
  },
  {
   "cell_type": "code",
   "execution_count": null,
   "id": "d0ff15a2-38bd-4cd8-b0f2-6ffca1ab1090",
   "metadata": {},
   "outputs": [],
   "source": []
  },
  {
   "cell_type": "code",
   "execution_count": null,
   "id": "238ed4e1-fb84-464c-a376-d3c97850fb79",
   "metadata": {},
   "outputs": [],
   "source": []
  }
 ],
 "metadata": {
  "kernelspec": {
   "display_name": "Python 3 (ipykernel)",
   "language": "python",
   "name": "python3"
  },
  "language_info": {
   "codemirror_mode": {
    "name": "ipython",
    "version": 3
   },
   "file_extension": ".py",
   "mimetype": "text/x-python",
   "name": "python",
   "nbconvert_exporter": "python",
   "pygments_lexer": "ipython3",
   "version": "3.10.8"
  }
 },
 "nbformat": 4,
 "nbformat_minor": 5
}
