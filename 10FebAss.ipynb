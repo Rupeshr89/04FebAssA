{
 "cells": [
  {
   "cell_type": "markdown",
   "id": "f3774b83-6c7d-453e-a01d-aa9b4a8509ec",
   "metadata": {},
   "source": [
    "### Q1. Which function is used to open a file? What are the different modes of opening a file? Explain each mode of file opening."
   ]
  },
  {
   "cell_type": "code",
   "execution_count": null,
   "id": "b58f3a4d-93be-48ee-b985-3f5b784a6e09",
   "metadata": {},
   "outputs": [],
   "source": [
    "open() function is used to open a file.\n",
    "Mode\tDescription\n",
    "r\t    Open a file for reading. (default)\n",
    "w\t    Open a file for writing. Creates a new file if it does not exist or truncates the file if it exists.\n",
    "x\t    Open a file for exclusive creation. If the file already exists, the operation fails.\n",
    "a\t    Open a file for appending at the end of the file without truncating it. Creates a new file if it does not exist.\n",
    "t\t    Open in text mode. (default)\n",
    "b\t    Open in binary mode.\n",
    "+\t    Open a file for updating (reading and writing)"
   ]
  },
  {
   "cell_type": "markdown",
   "id": "ad840f97-0fc2-4799-a4b9-abf62d550ded",
   "metadata": {},
   "source": [
    "### Q2. Why close() function is used? Why is it important to close a file?"
   ]
  },
  {
   "cell_type": "code",
   "execution_count": null,
   "id": "081d5358-671e-46bd-a3c8-d094657c8c63",
   "metadata": {},
   "outputs": [],
   "source": [
    "The close() method closes an open file. You should always close your files, in some cases, due to buffering, changes made to \n",
    "a file may not show until you close the file."
   ]
  },
  {
   "cell_type": "code",
   "execution_count": null,
   "id": "73d7db41-e309-4590-8ebc-7f0d252b03c0",
   "metadata": {},
   "outputs": [],
   "source": [
    "If you do not close your file then in some cases, due to buffering, changes made to a file may not show until you close\n",
    "the file."
   ]
  },
  {
   "cell_type": "markdown",
   "id": "264c71fc-6fe8-4e80-b299-19defdda88ad",
   "metadata": {},
   "source": [
    "### Q3. Write a python program to create a text file. Write ‘I want to become a Data Scientist’ in that file. Then close the file. Open this file and read the content of the file."
   ]
  },
  {
   "cell_type": "code",
   "execution_count": 5,
   "id": "02fb576f-bd23-4f67-84ce-32101691ff79",
   "metadata": {},
   "outputs": [],
   "source": [
    "file=open(\"test1.txt\",'w')"
   ]
  },
  {
   "cell_type": "code",
   "execution_count": 6,
   "id": "866a9acc-8e1a-4cf5-997f-ddd8a616fb99",
   "metadata": {},
   "outputs": [
    {
     "data": {
      "text/plain": [
       "33"
      ]
     },
     "execution_count": 6,
     "metadata": {},
     "output_type": "execute_result"
    }
   ],
   "source": [
    "file.write(\"I want to become a Data Scientist\")"
   ]
  },
  {
   "cell_type": "code",
   "execution_count": 7,
   "id": "9344000c-68fe-40d9-a074-2430808af800",
   "metadata": {},
   "outputs": [],
   "source": [
    "file=open(\"test1.txt\",'r')"
   ]
  },
  {
   "cell_type": "code",
   "execution_count": 8,
   "id": "76f0365f-9fe9-4e75-975f-5c2395f53508",
   "metadata": {},
   "outputs": [
    {
     "data": {
      "text/plain": [
       "'I want to become a Data Scientist'"
      ]
     },
     "execution_count": 8,
     "metadata": {},
     "output_type": "execute_result"
    }
   ],
   "source": [
    "file.read()"
   ]
  },
  {
   "cell_type": "code",
   "execution_count": 9,
   "id": "d8aec4f0-2fab-4013-a2aa-54c0c8d7ec25",
   "metadata": {},
   "outputs": [],
   "source": [
    "file.close()"
   ]
  },
  {
   "cell_type": "markdown",
   "id": "4653df48-f0f6-4e68-8deb-c92ec2d67156",
   "metadata": {},
   "source": [
    "### Q4. Explain the following with python code: read(), readline() and readlines()."
   ]
  },
  {
   "cell_type": "code",
   "execution_count": null,
   "id": "a6768a97-c5cd-4a0a-bd48-f2b7df11e976",
   "metadata": {},
   "outputs": [],
   "source": [
    "read()=The read() method returns the specified number of bytes from the file"
   ]
  },
  {
   "cell_type": "code",
   "execution_count": 10,
   "id": "82d3778a-c81a-4d90-8609-f751afeb9a40",
   "metadata": {},
   "outputs": [],
   "source": [
    "file1=open(\"test2.txt\",'w')"
   ]
  },
  {
   "cell_type": "code",
   "execution_count": 11,
   "id": "1feb17ab-e789-400a-9218-2146280eaf2c",
   "metadata": {},
   "outputs": [
    {
     "data": {
      "text/plain": [
       "33"
      ]
     },
     "execution_count": 11,
     "metadata": {},
     "output_type": "execute_result"
    }
   ],
   "source": [
    "file1.write(\"I want to become a data scientist\")"
   ]
  },
  {
   "cell_type": "code",
   "execution_count": 12,
   "id": "2d72a1fc-8cc8-49e8-80b7-9c6ad7de5810",
   "metadata": {},
   "outputs": [],
   "source": [
    "file1=open(\"test2.txt\",'r')"
   ]
  },
  {
   "cell_type": "code",
   "execution_count": 13,
   "id": "0bdbd91e-0ed6-4f1d-b213-f303a8c2a6ca",
   "metadata": {},
   "outputs": [
    {
     "data": {
      "text/plain": [
       "'I want to become a data scientist'"
      ]
     },
     "execution_count": 13,
     "metadata": {},
     "output_type": "execute_result"
    }
   ],
   "source": [
    "file1.read()"
   ]
  },
  {
   "cell_type": "code",
   "execution_count": 22,
   "id": "e03c995c-a304-4976-9481-c034ae62c1f2",
   "metadata": {},
   "outputs": [],
   "source": [
    "file1.close()"
   ]
  },
  {
   "cell_type": "code",
   "execution_count": null,
   "id": "f6a322a6-15f5-405a-af9a-4acaaeec3eba",
   "metadata": {},
   "outputs": [],
   "source": [
    "readline()=Python readline() method reads only one complete line from the file given. It appends a newline (“\\n”) at the end of the line.\n",
    "If you open the file in normal read mode, readline() will return you the string.\n",
    "If you open the file in binary mode, readline() will return you binary object."
   ]
  },
  {
   "cell_type": "code",
   "execution_count": 23,
   "id": "c80d2908-ccca-40ee-a215-f59bd3ed10dd",
   "metadata": {},
   "outputs": [],
   "source": [
    "file2=open(\"test3.txt\",'w')"
   ]
  },
  {
   "cell_type": "code",
   "execution_count": 25,
   "id": "9cb2eb33-ab74-478c-972a-0799ccbdb3df",
   "metadata": {},
   "outputs": [
    {
     "data": {
      "text/plain": [
       "33"
      ]
     },
     "execution_count": 25,
     "metadata": {},
     "output_type": "execute_result"
    }
   ],
   "source": [
    "file2.write(\"I want to become a data scientist\")"
   ]
  },
  {
   "cell_type": "code",
   "execution_count": 26,
   "id": "88b126f1-3a41-4d47-9947-a40717d7781c",
   "metadata": {},
   "outputs": [],
   "source": [
    "file2=open(\"test3.txt\",'r')"
   ]
  },
  {
   "cell_type": "code",
   "execution_count": 27,
   "id": "f4bd2687-d161-4ce7-ba87-3980b34d9cb9",
   "metadata": {},
   "outputs": [
    {
     "data": {
      "text/plain": [
       "'I want to become a data scientist'"
      ]
     },
     "execution_count": 27,
     "metadata": {},
     "output_type": "execute_result"
    }
   ],
   "source": [
    "file2.read()"
   ]
  },
  {
   "cell_type": "code",
   "execution_count": 28,
   "id": "5da4f4b5-fbf8-4df9-813b-c3549f95fbb3",
   "metadata": {},
   "outputs": [
    {
     "data": {
      "text/plain": [
       "4"
      ]
     },
     "execution_count": 28,
     "metadata": {},
     "output_type": "execute_result"
    }
   ],
   "source": [
    "file2.seek(4)"
   ]
  },
  {
   "cell_type": "code",
   "execution_count": 29,
   "id": "89f11375-853b-4a4d-a8b5-45668f73561b",
   "metadata": {},
   "outputs": [
    {
     "data": {
      "text/plain": [
       "'nt to become a data scientist'"
      ]
     },
     "execution_count": 29,
     "metadata": {},
     "output_type": "execute_result"
    }
   ],
   "source": [
    "file2.readline()"
   ]
  },
  {
   "cell_type": "code",
   "execution_count": null,
   "id": "f017484c-b2ad-4773-b1d8-b44f4fccdb00",
   "metadata": {},
   "outputs": [],
   "source": []
  },
  {
   "cell_type": "code",
   "execution_count": null,
   "id": "7ad0bcff-a6b8-4b56-ae32-2213499a1e25",
   "metadata": {},
   "outputs": [],
   "source": [
    "readlines()=The readlines() method returns a list containing each line in the file as a list item."
   ]
  },
  {
   "cell_type": "code",
   "execution_count": 30,
   "id": "94c45d31-1525-4cdb-99c8-8ed9c8b0a429",
   "metadata": {},
   "outputs": [],
   "source": [
    "file3=open(\"test4.txt\",'w')"
   ]
  },
  {
   "cell_type": "code",
   "execution_count": 32,
   "id": "504fc2f7-7391-442b-9bed-a593a891bd8a",
   "metadata": {},
   "outputs": [
    {
     "data": {
      "text/plain": [
       "33"
      ]
     },
     "execution_count": 32,
     "metadata": {},
     "output_type": "execute_result"
    }
   ],
   "source": [
    "file3.write(\"I want to become a data scientist\")"
   ]
  },
  {
   "cell_type": "code",
   "execution_count": 35,
   "id": "180aefe7-d584-4ffa-a626-48041e962084",
   "metadata": {},
   "outputs": [],
   "source": [
    "file3=open(\"test4.txt\",'r')"
   ]
  },
  {
   "cell_type": "code",
   "execution_count": 36,
   "id": "81b0216a-1d0f-4f27-a62d-b20b186be8a0",
   "metadata": {},
   "outputs": [
    {
     "data": {
      "text/plain": [
       "'I want to become a data scientist'"
      ]
     },
     "execution_count": 36,
     "metadata": {},
     "output_type": "execute_result"
    }
   ],
   "source": [
    "file3.read()"
   ]
  },
  {
   "cell_type": "code",
   "execution_count": 37,
   "id": "bdbec160-c5c1-4438-81f0-e78706e7431c",
   "metadata": {},
   "outputs": [
    {
     "data": {
      "text/plain": [
       "[]"
      ]
     },
     "execution_count": 37,
     "metadata": {},
     "output_type": "execute_result"
    }
   ],
   "source": [
    "file3.readlines()"
   ]
  },
  {
   "cell_type": "markdown",
   "id": "e0e74f60-24c8-4e44-814b-52ecf29e19bc",
   "metadata": {},
   "source": [
    "### Q5. Explain why with statement is used with open(). What is the advantage of using with statement and open() together?"
   ]
  },
  {
   "cell_type": "code",
   "execution_count": null,
   "id": "1511ad06-7250-4b1d-9af0-a4c23435cb02",
   "metadata": {},
   "outputs": [],
   "source": [
    "The with statement works with the open() function to open a file.\n",
    "Unlike open() where you have to close the file with the close() method, the with statement closes the file for you without you telling it to."
   ]
  },
  {
   "cell_type": "code",
   "execution_count": null,
   "id": "7677e2da-6688-4a80-9c0d-5bd404a0ea5c",
   "metadata": {},
   "outputs": [],
   "source": [
    "The with statement works with the open() function to open a file.\n",
    "Unlike open() where you have to close the file with the close() method, the with statement closes the file for you without you telling it to"
   ]
  },
  {
   "cell_type": "markdown",
   "id": "1454696b-3ac4-4492-8407-322db70496b2",
   "metadata": {},
   "source": [
    "### Q6. Explain the write() and writelines() functions. Give a suitable example."
   ]
  },
  {
   "cell_type": "code",
   "execution_count": null,
   "id": "10f1d663-e781-4f39-b9b3-32445c60d910",
   "metadata": {},
   "outputs": [],
   "source": [
    "write() function\n",
    "\n",
    "The write() function will write the content in the file without adding any extra characters.\n",
    " "
   ]
  },
  {
   "cell_type": "code",
   "execution_count": null,
   "id": "1996a283-c8ca-4e00-94b4-9eb2a8997a8b",
   "metadata": {},
   "outputs": [],
   "source": [
    "Syntax: \n",
    "\n",
    "# Writes string content referenced by file object.\n",
    "\n",
    "file_name.write(content)"
   ]
  },
  {
   "cell_type": "code",
   "execution_count": 39,
   "id": "415e94c6-fe5f-479a-a0a2-c0f5d0060083",
   "metadata": {},
   "outputs": [
    {
     "name": "stdin",
     "output_type": "stream",
     "text": [
      "Enter the name of the employee:  Rupesh\n",
      "Enter the name of the employee:  Rai\n",
      "Enter the name of the employee:  Himani\n"
     ]
    }
   ],
   "source": [
    "file = open(\"Employees.txt\", \"w\")\n",
    "  \n",
    "for i in range(3):\n",
    "    name = input(\"Enter the name of the employee: \")\n",
    "    file.write(name)\n",
    "    file.write(\"\\n\")"
   ]
  },
  {
   "cell_type": "code",
   "execution_count": null,
   "id": "020ee828-fc1a-49b6-8b2a-b58be69bad1c",
   "metadata": {},
   "outputs": [],
   "source": []
  },
  {
   "cell_type": "code",
   "execution_count": null,
   "id": "0ade5f18-429e-4a9d-a6f1-43e54372710d",
   "metadata": {},
   "outputs": [],
   "source": [
    "writelines() function\n",
    "\n",
    "This function writes the content of a list to a file."
   ]
  },
  {
   "cell_type": "code",
   "execution_count": null,
   "id": "0668f496-6c74-43c4-a38a-cd46e20dd85f",
   "metadata": {},
   "outputs": [],
   "source": [
    "Syntax:   \n",
    "\n",
    "# write all the strings present in the list \"list_of_lines\" \n",
    "\n",
    "file_name.writelines(list_of_lines)"
   ]
  },
  {
   "cell_type": "code",
   "execution_count": 38,
   "id": "ec16ab9f-4a7a-4cfc-88f3-dd3d8c09086f",
   "metadata": {},
   "outputs": [
    {
     "name": "stdin",
     "output_type": "stream",
     "text": [
      "Enter the name of the employee:  Rupesh\n",
      "Enter the name of the employee:  Himani\n",
      "Enter the name of the employee:  Rai\n"
     ]
    }
   ],
   "source": [
    "file1 = open(\"Employees.txt\", \"w\")\n",
    "lst = []\n",
    "for i in range(3):\n",
    "    name = input(\"Enter the name of the employee: \")\n",
    "    lst.append(name + '\\n')\n",
    "      \n",
    "file1.writelines(lst)"
   ]
  },
  {
   "cell_type": "code",
   "execution_count": null,
   "id": "436ec8ac-346a-436d-b748-1be048f6fefc",
   "metadata": {},
   "outputs": [],
   "source": []
  },
  {
   "cell_type": "code",
   "execution_count": null,
   "id": "4a879236-aab2-4655-9085-70e4c9ae0a7f",
   "metadata": {},
   "outputs": [],
   "source": []
  },
  {
   "cell_type": "code",
   "execution_count": null,
   "id": "e4092a22-981d-4b4e-aec5-99c535fccf9a",
   "metadata": {},
   "outputs": [],
   "source": []
  },
  {
   "cell_type": "code",
   "execution_count": null,
   "id": "d7a19bb7-b4b6-4093-a07e-adbaa4e188e6",
   "metadata": {},
   "outputs": [],
   "source": []
  },
  {
   "cell_type": "code",
   "execution_count": null,
   "id": "d9680d34-c85b-421a-9d26-35db7a07bfb7",
   "metadata": {},
   "outputs": [],
   "source": []
  },
  {
   "cell_type": "code",
   "execution_count": null,
   "id": "86a5171e-b588-4216-a21d-67fc56f3f2c0",
   "metadata": {},
   "outputs": [],
   "source": []
  },
  {
   "cell_type": "code",
   "execution_count": null,
   "id": "67cabfa8-29bb-4599-8411-e21c3d12f65e",
   "metadata": {},
   "outputs": [],
   "source": []
  },
  {
   "cell_type": "code",
   "execution_count": null,
   "id": "7578ad40-6d17-40a6-9c7e-9824084b7317",
   "metadata": {},
   "outputs": [],
   "source": []
  },
  {
   "cell_type": "code",
   "execution_count": null,
   "id": "173987f3-cc3a-4339-95c5-2caf137a33f9",
   "metadata": {},
   "outputs": [],
   "source": []
  },
  {
   "cell_type": "code",
   "execution_count": null,
   "id": "0c64978d-7214-4b6e-9f4f-1f47512ee1f7",
   "metadata": {},
   "outputs": [],
   "source": []
  },
  {
   "cell_type": "code",
   "execution_count": null,
   "id": "c8e45248-ae54-4983-97d8-7c5f4f4aef4a",
   "metadata": {},
   "outputs": [],
   "source": []
  }
 ],
 "metadata": {
  "kernelspec": {
   "display_name": "Python 3 (ipykernel)",
   "language": "python",
   "name": "python3"
  },
  "language_info": {
   "codemirror_mode": {
    "name": "ipython",
    "version": 3
   },
   "file_extension": ".py",
   "mimetype": "text/x-python",
   "name": "python",
   "nbconvert_exporter": "python",
   "pygments_lexer": "ipython3",
   "version": "3.10.8"
  }
 },
 "nbformat": 4,
 "nbformat_minor": 5
}
