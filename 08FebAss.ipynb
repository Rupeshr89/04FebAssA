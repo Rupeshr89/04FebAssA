{
 "cells": [
  {
   "cell_type": "markdown",
   "id": "80a1b335-3e93-4e66-92c7-1e59a72e4829",
   "metadata": {},
   "source": [
    "### Q1. What is Abstraction in OOps? Explain with an example."
   ]
  },
  {
   "cell_type": "code",
   "execution_count": null,
   "id": "92cb3247-6f4d-4981-8a03-9e6b3f0cbba2",
   "metadata": {},
   "outputs": [],
   "source": [
    "Abstraction in python is defined as a process of handling complexity by hiding unnecessary information from the user.\n",
    "This is one of the core concepts of object-oriented programming (OOP) languages"
   ]
  },
  {
   "cell_type": "code",
   "execution_count": 1,
   "id": "c46d01b2-3e23-435b-86a5-5d533abfab3e",
   "metadata": {},
   "outputs": [],
   "source": [
    "import abc\n",
    "class car:\n",
    "    @abc.abstractmethod\n",
    "    def car_name(self):\n",
    "        pass\n",
    "    @abc.abstractmethod\n",
    "    def car_year(self):\n",
    "        pass\n",
    "    @abc.abstractmethod\n",
    "    def car_milage(self):\n",
    "        pass\n",
    "      "
   ]
  },
  {
   "cell_type": "code",
   "execution_count": 2,
   "id": "31c1062f-87e2-4271-8f35-972fd786ead3",
   "metadata": {},
   "outputs": [],
   "source": [
    "class tesla(car):\n",
    "    def car_name(self):\n",
    "        return \"Car name is Tesla EV\"\n",
    "    def car_year(self):\n",
    "        return \"Car year is 2021\"\n",
    "    def car_milage(self):\n",
    "        return \"Car milage 12kmpl\""
   ]
  },
  {
   "cell_type": "code",
   "execution_count": 3,
   "id": "fc34a39a-5200-45d2-b6a6-752846f59c42",
   "metadata": {},
   "outputs": [],
   "source": [
    "class suzuki(car):\n",
    "    def car_name(self):\n",
    "        return \"car name is Ertiga\"\n",
    "    def car_year(self):\n",
    "        return \"Car year is 2020\"\n",
    "    def car_year(self):\n",
    "        return \"Car milage is 10kmpl\""
   ]
  },
  {
   "cell_type": "code",
   "execution_count": 4,
   "id": "0b8214dd-1674-4532-9dd6-8697ee599944",
   "metadata": {},
   "outputs": [],
   "source": [
    "T=tesla()"
   ]
  },
  {
   "cell_type": "code",
   "execution_count": 5,
   "id": "2c11a664-260a-489b-afd9-1b6a7f14407a",
   "metadata": {},
   "outputs": [
    {
     "data": {
      "text/plain": [
       "'Car name is Tesla EV'"
      ]
     },
     "execution_count": 5,
     "metadata": {},
     "output_type": "execute_result"
    }
   ],
   "source": [
    "T.car_name()"
   ]
  },
  {
   "cell_type": "code",
   "execution_count": 6,
   "id": "626dbff6-07c7-4c1d-b12d-e3e427090b34",
   "metadata": {},
   "outputs": [],
   "source": [
    "S=suzuki()"
   ]
  },
  {
   "cell_type": "code",
   "execution_count": 7,
   "id": "df30fdbc-2a3e-4197-905e-bc1314f6e7be",
   "metadata": {},
   "outputs": [
    {
     "data": {
      "text/plain": [
       "'car name is Ertiga'"
      ]
     },
     "execution_count": 7,
     "metadata": {},
     "output_type": "execute_result"
    }
   ],
   "source": [
    "S.car_name()"
   ]
  },
  {
   "cell_type": "code",
   "execution_count": null,
   "id": "ffa2444a-0b54-4dfe-8f0f-460cdc2c5bae",
   "metadata": {},
   "outputs": [],
   "source": []
  },
  {
   "cell_type": "markdown",
   "id": "e99ea17d-704d-4d02-b223-b6a2a7924cb8",
   "metadata": {},
   "source": [
    "### Q2. Differentiate between Abstraction and Encapsulation. Explain with an example."
   ]
  },
  {
   "cell_type": "code",
   "execution_count": null,
   "id": "fc3d131c-7a42-444c-8fba-4739ed0993ae",
   "metadata": {},
   "outputs": [],
   "source": [
    "Abstraction is a way of representing some specific data.\n",
    "Encapsulation is a way of hiding the complexity of something and exposing only the parts you wish to expose"
   ]
  },
  {
   "cell_type": "code",
   "execution_count": 6,
   "id": "38ae330b-80d1-4ae1-8e75-2aac7759c616",
   "metadata": {},
   "outputs": [],
   "source": [
    "#Example of encapsulation"
   ]
  },
  {
   "cell_type": "code",
   "execution_count": 8,
   "id": "e45843a2-8c2d-41c8-b08c-bb6ae5c1a3d1",
   "metadata": {},
   "outputs": [],
   "source": [
    "class car:\n",
    "    def __init__(self,name,make,model,speed):\n",
    "        self.__name=name\n",
    "        self.__make=make\n",
    "        self.__model=model\n",
    "        self.__speed=0"
   ]
  },
  {
   "cell_type": "code",
   "execution_count": 9,
   "id": "067331c4-8391-47be-9196-0caf30a7efee",
   "metadata": {},
   "outputs": [],
   "source": [
    "obj_car=car(\"Thar\",\"Mahindra\",2022,140)"
   ]
  },
  {
   "cell_type": "code",
   "execution_count": 10,
   "id": "18d4cb40-8853-44a2-a2d5-614a32cba97b",
   "metadata": {},
   "outputs": [
    {
     "data": {
      "text/plain": [
       "'Thar'"
      ]
     },
     "execution_count": 10,
     "metadata": {},
     "output_type": "execute_result"
    }
   ],
   "source": [
    "obj_car._car__name"
   ]
  },
  {
   "cell_type": "code",
   "execution_count": 11,
   "id": "660b3013-8fcd-4f35-924a-f40b1bcd4120",
   "metadata": {},
   "outputs": [],
   "source": [
    "#Example of abstraction"
   ]
  },
  {
   "cell_type": "code",
   "execution_count": 12,
   "id": "54c682ed-aa10-4980-a3b9-f3efd12008fa",
   "metadata": {},
   "outputs": [],
   "source": [
    "import abc\n",
    "class car:\n",
    "    @abc.abstractmethod\n",
    "    def car_name(self):\n",
    "        pass"
   ]
  },
  {
   "cell_type": "code",
   "execution_count": 13,
   "id": "f9443861-88a5-4a6f-a8b9-62628143d7c8",
   "metadata": {},
   "outputs": [],
   "source": [
    "class tesla(car):\n",
    "    def car_name(self):\n",
    "        return \"Car name is Tesla EV\""
   ]
  },
  {
   "cell_type": "code",
   "execution_count": 14,
   "id": "69149d14-726f-4faf-83da-3b0a6cb9a5b6",
   "metadata": {},
   "outputs": [],
   "source": [
    "class suzuki(car):\n",
    "    def car_name(self):\n",
    "        return \"car name is Ertiga\""
   ]
  },
  {
   "cell_type": "code",
   "execution_count": 15,
   "id": "36f43e83-4043-4fd2-89b5-dca8b9bf5931",
   "metadata": {},
   "outputs": [],
   "source": [
    "ts=tesla()"
   ]
  },
  {
   "cell_type": "code",
   "execution_count": 16,
   "id": "ebff0c42-4638-400f-85e7-8d50dc59a003",
   "metadata": {},
   "outputs": [
    {
     "data": {
      "text/plain": [
       "'Car name is Tesla EV'"
      ]
     },
     "execution_count": 16,
     "metadata": {},
     "output_type": "execute_result"
    }
   ],
   "source": [
    "ts.car_name()"
   ]
  },
  {
   "cell_type": "code",
   "execution_count": 17,
   "id": "d5f3dcef-7c48-474d-9e70-6b9ecb7e09ac",
   "metadata": {},
   "outputs": [],
   "source": [
    "su=suzuki()"
   ]
  },
  {
   "cell_type": "code",
   "execution_count": 18,
   "id": "68192470-3027-44bb-b744-b0a5ba091dcb",
   "metadata": {},
   "outputs": [
    {
     "data": {
      "text/plain": [
       "'car name is Ertiga'"
      ]
     },
     "execution_count": 18,
     "metadata": {},
     "output_type": "execute_result"
    }
   ],
   "source": [
    "su.car_name()"
   ]
  },
  {
   "cell_type": "markdown",
   "id": "1fe65c2e-5f41-45c4-b75e-84f9ea457b4f",
   "metadata": {},
   "source": [
    "### Q3. What is abc module in python? Why is it used?"
   ]
  },
  {
   "cell_type": "code",
   "execution_count": null,
   "id": "ef4c68f0-dab4-4fcb-8ad9-2c03d07b9174",
   "metadata": {},
   "outputs": [],
   "source": [
    "abc stands for (abstract base classes)The main goal of the abstract base class is to provide a standardized way to test whether\n",
    "an object adheres to a given specification.It can also prevent any attempt to instantiate a subclass that doesn’t \n",
    "override a particular method in the superclass.And finally, using an abstract class, \n",
    "a class can derive identity from another class without any object inheritance."
   ]
  },
  {
   "cell_type": "code",
   "execution_count": null,
   "id": "ae24263a-2a80-4a43-a4b8-7e0872e6559f",
   "metadata": {},
   "outputs": [],
   "source": [
    "The 'abc' module in Python library provides the infrastructure for defining custom abstract base classes.\n",
    "'abc' works by marking methods of the base class as abstract. This is done by @absttractmethod decorator."
   ]
  },
  {
   "cell_type": "markdown",
   "id": "fa8de6ab-d7a5-4603-a024-1b59b7b0e262",
   "metadata": {},
   "source": [
    "### Q4. How can we achieve data abstraction?"
   ]
  },
  {
   "cell_type": "code",
   "execution_count": null,
   "id": "99831a08-4f8f-47ca-a472-e08023b92ef2",
   "metadata": {},
   "outputs": [],
   "source": [
    "In Python, abstraction can be achieved by having/using abstract classes and methods in our programs. \n",
    "Understanding Abstract Methods and Classes: \n",
    "    An abstract method is a method that is declared, but does not contain implementation."
   ]
  },
  {
   "cell_type": "markdown",
   "id": "90faef15-a424-4f22-afd0-f5e330a8b67d",
   "metadata": {},
   "source": [
    "### Q5. Can we create an instance of an abstract class? Explain your answer."
   ]
  },
  {
   "cell_type": "code",
   "execution_count": null,
   "id": "84fa5063-df96-4193-bcde-da988feac7f5",
   "metadata": {},
   "outputs": [],
   "source": [
    "Abstract classes are not complete, as they may have some methods that are not defined. \n",
    "So we cannot create an instance or object of an abstract class in Python."
   ]
  },
  {
   "cell_type": "code",
   "execution_count": null,
   "id": "aadd2035-2117-4354-8d5e-c0241e7e86a9",
   "metadata": {},
   "outputs": [],
   "source": []
  },
  {
   "cell_type": "code",
   "execution_count": null,
   "id": "85eb4249-11ac-4f90-af55-581e75a883d2",
   "metadata": {},
   "outputs": [],
   "source": []
  },
  {
   "cell_type": "code",
   "execution_count": null,
   "id": "412be214-f1da-450b-b50d-c48bc2e9457b",
   "metadata": {},
   "outputs": [],
   "source": []
  },
  {
   "cell_type": "code",
   "execution_count": null,
   "id": "7e85039a-e748-43a0-9c4b-4c5c59f24199",
   "metadata": {},
   "outputs": [],
   "source": []
  },
  {
   "cell_type": "code",
   "execution_count": null,
   "id": "cd5aee38-798e-4667-961f-ec14052565e2",
   "metadata": {},
   "outputs": [],
   "source": []
  },
  {
   "cell_type": "code",
   "execution_count": null,
   "id": "1dd436f1-1cd7-499b-a4dc-de6674f99f01",
   "metadata": {},
   "outputs": [],
   "source": []
  },
  {
   "cell_type": "code",
   "execution_count": null,
   "id": "c313f095-5f81-44c1-8458-fc0d23dc09fc",
   "metadata": {},
   "outputs": [],
   "source": []
  },
  {
   "cell_type": "code",
   "execution_count": null,
   "id": "80e67a87-0dc7-4e18-9229-5af815241d23",
   "metadata": {},
   "outputs": [],
   "source": []
  },
  {
   "cell_type": "code",
   "execution_count": null,
   "id": "0c267cbe-4d4f-4af4-8754-451b56b15188",
   "metadata": {},
   "outputs": [],
   "source": []
  },
  {
   "cell_type": "code",
   "execution_count": null,
   "id": "971d0331-4d7a-4848-b9e4-ba34e747d5a1",
   "metadata": {},
   "outputs": [],
   "source": []
  },
  {
   "cell_type": "code",
   "execution_count": null,
   "id": "f6953da7-14b0-4671-acfc-e6fc21c7d55e",
   "metadata": {},
   "outputs": [],
   "source": []
  },
  {
   "cell_type": "code",
   "execution_count": null,
   "id": "bea626fe-2ad6-48f6-9a5b-30a08d6ffb98",
   "metadata": {},
   "outputs": [],
   "source": []
  },
  {
   "cell_type": "code",
   "execution_count": null,
   "id": "7086c4fb-3592-4f77-8b0c-a8b14c73f854",
   "metadata": {},
   "outputs": [],
   "source": []
  },
  {
   "cell_type": "code",
   "execution_count": null,
   "id": "127ce9df-da81-4acc-8ec5-deffc64e2026",
   "metadata": {},
   "outputs": [],
   "source": []
  },
  {
   "cell_type": "code",
   "execution_count": null,
   "id": "e0e3efe3-9043-4fd4-ab0a-c2a288b8f5d2",
   "metadata": {},
   "outputs": [],
   "source": []
  },
  {
   "cell_type": "code",
   "execution_count": null,
   "id": "abe086b7-0663-40b2-b4a5-26b27d3eae5f",
   "metadata": {},
   "outputs": [],
   "source": []
  },
  {
   "cell_type": "code",
   "execution_count": null,
   "id": "ac31f6a0-171c-47a3-b101-9d72133a94b5",
   "metadata": {},
   "outputs": [],
   "source": []
  },
  {
   "cell_type": "code",
   "execution_count": null,
   "id": "ab3130c4-af1e-4218-b40d-bff319612b75",
   "metadata": {},
   "outputs": [],
   "source": []
  },
  {
   "cell_type": "code",
   "execution_count": null,
   "id": "ba6e2888-de13-42c8-b5e7-7e3378bc6501",
   "metadata": {},
   "outputs": [],
   "source": []
  },
  {
   "cell_type": "code",
   "execution_count": null,
   "id": "eb977cba-fd9a-40e0-ad2f-d36c3dfe031e",
   "metadata": {},
   "outputs": [],
   "source": []
  },
  {
   "cell_type": "code",
   "execution_count": null,
   "id": "ab3e257f-57da-48d3-a24e-1730125a26a9",
   "metadata": {},
   "outputs": [],
   "source": []
  },
  {
   "cell_type": "code",
   "execution_count": null,
   "id": "efaf0953-485f-4be5-9bfd-1a6b0e742e04",
   "metadata": {},
   "outputs": [],
   "source": []
  }
 ],
 "metadata": {
  "kernelspec": {
   "display_name": "Python 3 (ipykernel)",
   "language": "python",
   "name": "python3"
  },
  "language_info": {
   "codemirror_mode": {
    "name": "ipython",
    "version": 3
   },
   "file_extension": ".py",
   "mimetype": "text/x-python",
   "name": "python",
   "nbconvert_exporter": "python",
   "pygments_lexer": "ipython3",
   "version": "3.10.8"
  }
 },
 "nbformat": 4,
 "nbformat_minor": 5
}
