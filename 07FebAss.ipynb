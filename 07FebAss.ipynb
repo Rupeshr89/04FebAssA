{
 "cells": [
  {
   "cell_type": "markdown",
   "id": "a5df6803-ba18-48fe-9af4-8c22451083f2",
   "metadata": {},
   "source": [
    "### Q1. You are writing code for a company. The requirement of the company is that you create a python function that will check whether the password entered by the user is correct or not. The function should take the password as input and return the string “Valid Password” if the entered password follows the below-given password guidelines else it should return “Invalid Password”."
   ]
  },
  {
   "cell_type": "code",
   "execution_count": null,
   "id": "abb4ccef-3ddd-4f57-b4df-317c55d1876d",
   "metadata": {},
   "outputs": [
    {
     "name": "stdin",
     "output_type": "stream",
     "text": [
      "Enter your password PWSkil@$_8\n"
     ]
    },
    {
     "name": "stdout",
     "output_type": "stream",
     "text": [
      "Valid Password\n"
     ]
    }
   ],
   "source": [
    "password=input(\"Enter your password\")\n",
    "low,upp,dig,spe=0,0,0,0\n",
    "if (len(password)==10):\n",
    "    for i in password:\n",
    "        if (i.islower()):\n",
    "            low+=1\n",
    "        if (i.isupper()):\n",
    "            upp+=1\n",
    "        if(i.isdigit()):\n",
    "            dig+=1\n",
    "        if (i=='@' or i=='$' or i=='_'):\n",
    "            spe+=1\n",
    "if (low==3 or upp==3 or dig==1 or spe==3 and low+upp+dig+spe==len(password)):\n",
    "    print(\"Valid Password\")\n",
    "else:\n",
    "    print(\"Envalid Password\")"
   ]
  },
  {
   "cell_type": "markdown",
   "id": "0d30cc11-c748-4ce3-9544-ca9260ce3998",
   "metadata": {},
   "source": [
    "### Q2. Solve the below-given questions using at least one of the following:\n",
    "1. Lambda functioJ\n",
    "2. Filter functioJ\n",
    "3. Zap functioJ\n",
    "4. List ComprehensioI"
   ]
  },
  {
   "cell_type": "markdown",
   "id": "e9198ea8-6a05-41ec-8bca-86e144122d2f",
   "metadata": {},
   "source": [
    "#### A Check if the string starts with a particular letterY"
   ]
  },
  {
   "cell_type": "code",
   "execution_count": 5,
   "id": "b182bc95-5eeb-49fc-aa70-725bcb5ac5e4",
   "metadata": {},
   "outputs": [
    {
     "name": "stdout",
     "output_type": "stream",
     "text": [
      "True\n"
     ]
    }
   ],
   "source": [
    "start_with=lambda x: True if x.startswith('P') else False\n",
    "print(start_with(\"Pwskills\"))"
   ]
  },
  {
   "cell_type": "code",
   "execution_count": null,
   "id": "28fc60db-7b1f-4709-900e-6ccf5a584699",
   "metadata": {},
   "outputs": [],
   "source": [
    "starts_with = lambda x: True if x.startswith('P') else False\n",
    "print(starts_with('Python'))"
   ]
  },
  {
   "cell_type": "markdown",
   "id": "2e053b1c-6568-411d-a3d9-9e34ef325695",
   "metadata": {},
   "source": [
    "#### B.Check if the string is numeric"
   ]
  },
  {
   "cell_type": "code",
   "execution_count": 7,
   "id": "72d002ee-e83a-4acc-b434-aeee1d83043a",
   "metadata": {},
   "outputs": [
    {
     "name": "stdout",
     "output_type": "stream",
     "text": [
      "True\n",
      "True\n",
      "False\n"
     ]
    }
   ],
   "source": [
    "is_num = lambda q: q.replace('.','',1).isdigit()\n",
    "print(is_num('26587'))\n",
    "print(is_num('4.2365'))\n",
    "print(is_num('-12547'))"
   ]
  },
  {
   "cell_type": "markdown",
   "id": "823a4aee-8cca-410f-8c0f-b5491b075317",
   "metadata": {},
   "source": [
    "#### C.Sort a list of tuples having fruit names and their quantity. [(\"mango\",99),(\"orange\",80), (\"grapes\", 1000)"
   ]
  },
  {
   "cell_type": "code",
   "execution_count": 8,
   "id": "5db0b90a-5320-4431-9b8e-2bd448c8eda3",
   "metadata": {},
   "outputs": [],
   "source": [
    "tupl=[(\"mango\",99),(\"orange\",80), (\"grapes\", 1000)]"
   ]
  },
  {
   "cell_type": "code",
   "execution_count": 9,
   "id": "9aafee44-e7e5-41e6-a89c-fbdc81edecf0",
   "metadata": {},
   "outputs": [
    {
     "data": {
      "text/plain": [
       "[('mango', 99), ('orange', 80), ('grapes', 1000)]"
      ]
     },
     "execution_count": 9,
     "metadata": {},
     "output_type": "execute_result"
    }
   ],
   "source": [
    "tupl"
   ]
  },
  {
   "cell_type": "code",
   "execution_count": 12,
   "id": "71f310eb-9470-4888-9dff-a9d8f327e1cc",
   "metadata": {},
   "outputs": [],
   "source": [
    "tupl.sort(key=lambda x:x[1])"
   ]
  },
  {
   "cell_type": "code",
   "execution_count": 13,
   "id": "8355e187-50c9-4375-a23f-a6c48b774cf6",
   "metadata": {},
   "outputs": [
    {
     "data": {
      "text/plain": [
       "[('orange', 80), ('mango', 99), ('grapes', 1000)]"
      ]
     },
     "execution_count": 13,
     "metadata": {},
     "output_type": "execute_result"
    }
   ],
   "source": [
    "tupl"
   ]
  },
  {
   "cell_type": "markdown",
   "id": "8a421a70-13b3-4a6d-8e67-a752debf4931",
   "metadata": {},
   "source": [
    "#### D.Find the squares of numbers from 1 to 10"
   ]
  },
  {
   "cell_type": "code",
   "execution_count": 23,
   "id": "05f30568-eb38-4d36-9a5f-592d144d8a16",
   "metadata": {},
   "outputs": [],
   "source": [
    "square=list(map(lambda x: x**2,range(1,11)))"
   ]
  },
  {
   "cell_type": "code",
   "execution_count": 24,
   "id": "4a8183ff-4aee-40ef-af92-37e246d33944",
   "metadata": {},
   "outputs": [
    {
     "data": {
      "text/plain": [
       "[1, 4, 9, 16, 25, 36, 49, 64, 81, 100]"
      ]
     },
     "execution_count": 24,
     "metadata": {},
     "output_type": "execute_result"
    }
   ],
   "source": [
    "square"
   ]
  },
  {
   "cell_type": "markdown",
   "id": "208b2c69-9cf9-451f-9c4e-42f4811381bb",
   "metadata": {},
   "source": [
    "#### E.Find the cube root of numbers from 1 to 10"
   ]
  },
  {
   "cell_type": "code",
   "execution_count": 25,
   "id": "6d70519a-681d-4cb6-b756-536234d2b8bd",
   "metadata": {},
   "outputs": [],
   "source": [
    "cubic_root=list(map(lambda x: x**1./3,range(1,11)))"
   ]
  },
  {
   "cell_type": "code",
   "execution_count": 26,
   "id": "7a37e931-1c67-425d-848e-6b86b62faea2",
   "metadata": {},
   "outputs": [
    {
     "data": {
      "text/plain": [
       "[0.3333333333333333,\n",
       " 0.6666666666666666,\n",
       " 1.0,\n",
       " 1.3333333333333333,\n",
       " 1.6666666666666667,\n",
       " 2.0,\n",
       " 2.3333333333333335,\n",
       " 2.6666666666666665,\n",
       " 3.0,\n",
       " 3.3333333333333335]"
      ]
     },
     "execution_count": 26,
     "metadata": {},
     "output_type": "execute_result"
    }
   ],
   "source": [
    "cubic_root"
   ]
  },
  {
   "cell_type": "markdown",
   "id": "47b6ac0a-288f-4f7d-b28d-41c6b440e7bd",
   "metadata": {},
   "source": [
    "#### F.Check if a given number is even"
   ]
  },
  {
   "cell_type": "code",
   "execution_count": 29,
   "id": "06339154-8133-4ee5-8991-3a2f169ccf9f",
   "metadata": {},
   "outputs": [],
   "source": [
    "even_num=list(map(lambda x:x%2==0,range(1,11)))"
   ]
  },
  {
   "cell_type": "code",
   "execution_count": 30,
   "id": "4bc070b1-1f54-4cd5-a5e2-a8aec601fada",
   "metadata": {},
   "outputs": [
    {
     "data": {
      "text/plain": [
       "[False, True, False, True, False, True, False, True, False, True]"
      ]
     },
     "execution_count": 30,
     "metadata": {},
     "output_type": "execute_result"
    }
   ],
   "source": [
    "even_num"
   ]
  },
  {
   "cell_type": "code",
   "execution_count": null,
   "id": "0dddee08-4271-4b5a-b756-71a5ad5af8dc",
   "metadata": {},
   "outputs": [],
   "source": []
  },
  {
   "cell_type": "markdown",
   "id": "dc47a843-b079-424f-b61c-2b85f8fe1b7f",
   "metadata": {},
   "source": [
    "#### G.Filter odd numbers from the given list.\n",
    "[1,2,3,4,5,6,7,8,9,10]"
   ]
  },
  {
   "cell_type": "code",
   "execution_count": 27,
   "id": "68ea482c-a9aa-4a99-84c8-039ca4f1ca20",
   "metadata": {},
   "outputs": [],
   "source": [
    "l=[1,2,3,4,5,6,7,8,9,10]"
   ]
  },
  {
   "cell_type": "code",
   "execution_count": 28,
   "id": "cd219de5-da5d-4fc7-9c96-9e295dfd3b52",
   "metadata": {},
   "outputs": [
    {
     "name": "stdout",
     "output_type": "stream",
     "text": [
      "[1, 3, 5, 7, 9]\n"
     ]
    }
   ],
   "source": [
    "print(list(filter(lambda x:x%2!=0,l)))"
   ]
  },
  {
   "cell_type": "markdown",
   "id": "cadf1fdc-f312-4961-82e8-b1da139f1c74",
   "metadata": {},
   "source": [
    "#### H.Sort a list of integers into positive and negative integers lists.\n",
    "[1,2,3,4,5,6,-1,-2,-3,-4,-5,0]"
   ]
  },
  {
   "cell_type": "code",
   "execution_count": null,
   "id": "e31726d8-9117-4fd9-b3c9-8d7c351abb56",
   "metadata": {},
   "outputs": [],
   "source": [
    "lst1=[1,2,3,4,5,6,-1,-2,-3,-4,-5,0]"
   ]
  },
  {
   "cell_type": "code",
   "execution_count": null,
   "id": "8d6743f5-3a78-4ec4-9dad-f2b585e8ae3d",
   "metadata": {},
   "outputs": [],
   "source": []
  },
  {
   "cell_type": "code",
   "execution_count": null,
   "id": "8486cb65-7364-4404-8f92-5f9829796b6f",
   "metadata": {},
   "outputs": [],
   "source": []
  }
 ],
 "metadata": {
  "kernelspec": {
   "display_name": "Python 3 (ipykernel)",
   "language": "python",
   "name": "python3"
  },
  "language_info": {
   "codemirror_mode": {
    "name": "ipython",
    "version": 3
   },
   "file_extension": ".py",
   "mimetype": "text/x-python",
   "name": "python",
   "nbconvert_exporter": "python",
   "pygments_lexer": "ipython3",
   "version": "3.10.8"
  }
 },
 "nbformat": 4,
 "nbformat_minor": 5
}
